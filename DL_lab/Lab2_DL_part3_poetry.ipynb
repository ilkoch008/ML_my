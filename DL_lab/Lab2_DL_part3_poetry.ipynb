{
 "cells": [
  {
   "cell_type": "markdown",
   "metadata": {},
   "source": [
    "## Lab 2"
   ]
  },
  {
   "cell_type": "markdown",
   "metadata": {},
   "source": [
    "### Part 3. Poetry generation\n",
    "\n",
    "Let's try to generate some poetry using RNNs. \n",
    "\n",
    "You have several choices here: \n",
    "\n",
    "* The Shakespeare sonnets, file `sonnets.txt` available in the notebook directory.\n",
    "\n",
    "* Роман в стихах \"Евгений Онегин\" Александра Сергеевича Пушкина. В предобработанном виде доступен по [ссылке](https://github.com/attatrol/data_sources/blob/master/onegin.txt).\n",
    "\n",
    "* Some other text source, if it will be approved by the course staff.\n",
    "\n",
    "Text generation can be designed in several steps:\n",
    "    \n",
    "1. Data loading.\n",
    "2. Dictionary generation.\n",
    "3. Data preprocessing.\n",
    "4. Model (neural network) training.\n",
    "5. Text generation (model evaluation).\n"
   ]
  },
  {
   "cell_type": "code",
   "execution_count": 18,
   "metadata": {},
   "outputs": [
    {
     "name": "stdout",
     "output_type": "stream",
     "text": [
      "cuda:0\n"
     ]
    }
   ],
   "source": [
    "import string\n",
    "import os\n",
    "\n",
    "from matplotlib import pyplot as plt\n",
    "import torch\n",
    "import torch.nn as nn\n",
    "from torch.autograd import Variable\n",
    "import torch.nn.functional as F\n",
    "import numpy as np\n",
    "\n",
    "\n",
    "device = torch.device(\"cuda:0\") if torch.cuda.is_available() else torch.device(\"cpu\")\n",
    "print(device)"
   ]
  },
  {
   "cell_type": "markdown",
   "metadata": {},
   "source": [
    "### Data loading: Shakespeare"
   ]
  },
  {
   "cell_type": "markdown",
   "metadata": {},
   "source": [
    "Shakespeare sonnets are awailable at this [link](http://www.gutenberg.org/ebooks/1041?msg=welcome_stranger). In addition, they are stored in the same directory as this notebook (`sonnetes.txt`). Simple preprocessing is already done for you in the next cell: all technical info is dropped."
   ]
  },
  {
   "cell_type": "code",
   "execution_count": 19,
   "metadata": {
    "collapsed": true
   },
   "outputs": [],
   "source": [
    "if not os.path.exists('sonnets.txt'):\n",
    "    !wget https://raw.githubusercontent.com/girafe-ai/ml-mipt/master/homeworks_basic/Lab2_DL/sonnets.txt\n",
    "\n",
    "with open('sonnets.txt', 'r') as iofile:\n",
    "    text = iofile.readlines()\n",
    "    \n",
    "TEXT_START = 45\n",
    "TEXT_END = -368\n",
    "text = text[TEXT_START : TEXT_END]\n",
    "assert len(text) == 2616"
   ]
  },
  {
   "cell_type": "markdown",
   "metadata": {},
   "source": [
    "In opposite to the in-class practice, this time we want to predict complex text. Let's reduce the complexity of the task and lowercase all the symbols.\n",
    "\n",
    "Now variable `text` is a list of strings. Join all the strings into one and lowercase it."
   ]
  },
  {
   "cell_type": "code",
   "execution_count": 20,
   "metadata": {},
   "outputs": [
    {
     "name": "stdout",
     "output_type": "stream",
     "text": [
      "OK!\n"
     ]
    }
   ],
   "source": [
    "# Join all the strings into one and lowercase it\n",
    "# Put result into variable text.\n",
    "\n",
    "# Your great code here\n",
    "text = ''.join(text).lower()\n",
    "\n",
    "assert len(text) == 100225, 'Are you sure you have concatenated all the strings?'\n",
    "assert not any([x in set(text) for x in string.ascii_uppercase]), 'Uppercase letters are present'\n",
    "print('OK!')"
   ]
  },
  {
   "cell_type": "markdown",
   "metadata": {},
   "source": [
    "### Data loading: \"Евгений Онегин\"\n"
   ]
  },
  {
   "cell_type": "code",
   "execution_count": 21,
   "metadata": {},
   "outputs": [],
   "source": [
    "# !wget https://raw.githubusercontent.com/attatrol/data_sources/master/onegin.txt\n",
    "    \n",
    "with open('onegin.txt', 'r',encoding='utf-8') as iofile:\n",
    "    text = iofile.readlines()\n",
    "    \n",
    "text = [x.replace('\\t\\t', '') for x in text]"
   ]
  },
  {
   "cell_type": "markdown",
   "metadata": {},
   "source": [
    "In opposite to the in-class practice, this time we want to predict complex text. Let's reduce the complexity of the task and lowercase all the symbols.\n",
    "\n",
    "Now variable `text` is a list of strings. Join all the strings into one and lowercase it."
   ]
  },
  {
   "cell_type": "code",
   "execution_count": 22,
   "metadata": {},
   "outputs": [],
   "source": [
    "# Join all the strings into one and lowercase it\n",
    "# Put result into variable text.\n",
    "\n",
    "# Your great code here\n",
    "text = ''.join(text).lower()"
   ]
  },
  {
   "cell_type": "markdown",
   "metadata": {},
   "source": [
    "Put all the characters, that you've seen in the text, into variable `tokens`."
   ]
  },
  {
   "cell_type": "code",
   "execution_count": 23,
   "metadata": {},
   "outputs": [
    {
     "data": {
      "text/plain": "83"
     },
     "execution_count": 23,
     "metadata": {},
     "output_type": "execute_result"
    }
   ],
   "source": [
    "tokens = sorted(set(text))\n",
    "len(tokens)"
   ]
  },
  {
   "cell_type": "markdown",
   "metadata": {},
   "source": [
    "Create dictionary `token_to_idx = {<char>: <index>}` and dictionary `idx_to_token = {<index>: <char>}`"
   ]
  },
  {
   "cell_type": "code",
   "execution_count": 24,
   "metadata": {
    "collapsed": true
   },
   "outputs": [],
   "source": [
    "# dict <index>:<char>\n",
    "# Your great code here\n",
    "index_token = dict(zip(range(len(tokens)), tokens))\n",
    "\n",
    "# dict <char>:<index>\n",
    "# Your great code here\n",
    "token_index = dict(zip(tokens, range(len(tokens))))"
   ]
  },
  {
   "cell_type": "markdown",
   "metadata": {},
   "source": [
    "*Comment: in this task we have only 38 different tokens, so let's use one-hot encoding.*"
   ]
  },
  {
   "cell_type": "markdown",
   "metadata": {},
   "source": [
    "### Building the model"
   ]
  },
  {
   "cell_type": "markdown",
   "metadata": {},
   "source": [
    "Now we want to build and train recurrent neural net which would be able to something similar to Shakespeare's poetry.\n",
    "\n",
    "Let's use vanilla RNN, similar to the one created during the lesson."
   ]
  },
  {
   "cell_type": "code",
   "execution_count": 25,
   "metadata": {
    "collapsed": true
   },
   "outputs": [],
   "source": [
    "# Your code here\n",
    "# almost similar to week0_10:\n",
    "class CharRNNLoop(nn.Module):\n",
    "    def __init__(self, num_tokens, emb_size=38, rnn_num_units=64):\n",
    "        super(self.__class__, self).__init__()\n",
    "        self.num_units = rnn_num_units\n",
    "        self.rnn = nn.RNN(emb_size, rnn_num_units, batch_first=True)\n",
    "        self.lin = nn.Linear(rnn_num_units, num_tokens)\n",
    "\n",
    "    def forward(self, x, hidden):\n",
    "        out, hidden = self.rnn(x, hidden)\n",
    "        out = out.contiguous().view(-1, self.num_units)\n",
    "        out = self.lin(out)\n",
    "        return out, hidden\n",
    "\n",
    "    def initial_state(self, batch_size):\n",
    "        return Variable(torch.zeros(1, batch_size, self.num_units)).to(device)"
   ]
  },
  {
   "cell_type": "code",
   "execution_count": 26,
   "outputs": [],
   "source": [
    "# some necessary staff\n",
    "def get_batches(arr, batch_size, seq_length):\n",
    "    batch_size_total = batch_size * seq_length\n",
    "    n_batches = int(len(arr) / batch_size_total)\n",
    "    arr = arr[:n_batches * batch_size_total]\n",
    "    arr = arr.reshape((batch_size, -1))\n",
    "    for n in range(0, arr.shape[1], seq_length):\n",
    "        x = arr[:, n:n+seq_length]\n",
    "        y = np.zeros_like(x)\n",
    "        try:\n",
    "          y[:, :-1], y[:, -1] = x[:, 1:], arr[:, n+seq_length]\n",
    "        except IndexError:\n",
    "            y[:, :-1], y[:, -1] = x[:, 1:], arr[:, 0]\n",
    "        yield x, y # returning generator, cause we have no need to iterate it twice\n",
    "\n",
    "def one_hot_encode(arr, n_labels):\n",
    "    one_hot = np.zeros((np.multiply(*arr.shape), n_labels), dtype=np.float32)\n",
    "    one_hot[np.arange(one_hot.shape[0]), arr.flatten()] = 1.\n",
    "    one_hot = one_hot.reshape((*arr.shape, n_labels))\n",
    "    return one_hot\n",
    "\n",
    "def train(net, train_text, val_text, epochs=100, show_epoch=10, batch_size=10,\n",
    "          seq_length=50, lr=0.001, clip=5,\n",
    "          lstm=False):\n",
    "\n",
    "    opt = torch.optim.Adam(net.parameters(), lr=lr)\n",
    "    criterion = nn.CrossEntropyLoss()\n",
    "    train_loss_epoch, val_loss_epoch = list(), list()\n",
    "    n_chars = len(tokens)\n",
    "    for e in range(epochs):\n",
    "        h = net.initial_state(batch_size)\n",
    "        for x, y in get_batches(train_text, batch_size, seq_length):\n",
    "            net.train()\n",
    "            x = one_hot_encode(x, n_chars)\n",
    "            inputs = torch.from_numpy(x).to(device)\n",
    "            targets = torch.from_numpy(y).to(device)\n",
    "            net.zero_grad()\n",
    "            if lstm:\n",
    "                h = tuple([each.data for each in h])\n",
    "            else:\n",
    "                h = h.detach()\n",
    "\n",
    "            output, h = net(inputs, h)\n",
    "            loss = criterion(output, targets.view(batch_size*seq_length).long())\n",
    "            loss.backward()\n",
    "            nn.utils.clip_grad_norm_(net.parameters(), clip)\n",
    "            opt.step()\n",
    "        if e == 0 or (e+1) % show_epoch == 0:\n",
    "            val_h = net.initial_state(batch_size)\n",
    "            val_losses = []\n",
    "            net.eval()\n",
    "            for x, y in get_batches(val_text, batch_size, seq_length):\n",
    "                x = one_hot_encode(x, n_chars)\n",
    "                x, y = torch.from_numpy(x), torch.from_numpy(y)\n",
    "                if lstm:\n",
    "                    val_h = tuple([each.data for each in val_h])\n",
    "                else:\n",
    "                    val_h = val_h.detach()\n",
    "\n",
    "                inputs, targets = x, y\n",
    "                inputs, targets = inputs.to(device), targets.to(device)\n",
    "                output, val_h = net(inputs, val_h)\n",
    "                val_loss = criterion(output, targets.view(batch_size*seq_length).long())\n",
    "                val_losses.append(val_loss.item())\n",
    "                train_loss_epoch.append(loss.item())\n",
    "                val_loss_epoch.append(np.mean(val_losses))\n",
    "                print(f'Epoch {e + 1} of {epochs}: training loss: {train_loss_epoch[-1]:.6f}; validation loss: {val_loss_epoch[-1]:.6f}')\n",
    "        elif lstm:\n",
    "            print(f'Epoch {e + 1} of {epochs}')\n",
    "\n",
    "    return train_loss_epoch, val_loss_epoch"
   ],
   "metadata": {
    "collapsed": false,
    "pycharm": {
     "name": "#%%\n"
    }
   }
  },
  {
   "cell_type": "markdown",
   "metadata": {},
   "source": [
    "Plot the loss function (axis X: number of epochs, axis Y: loss function)."
   ]
  },
  {
   "cell_type": "code",
   "execution_count": 27,
   "metadata": {
    "collapsed": true
   },
   "outputs": [],
   "source": [
    "# Your plot code here\n",
    "# we will use it a little bit later\n",
    "def plot_train_process(train_loss, val_loss, epoch_gap=1):\n",
    "    fig, axes = plt.subplots(1, 1,figsize=(15,5))\n",
    "    axes.set_title(\"Loss\")\n",
    "    axes.plot(train_loss, label='train')\n",
    "    axes.plot(val_loss, label='test')\n",
    "    axes.grid()\n",
    "    axes.set_xlabel('n epoch * {}'.format(epoch_gap))\n",
    "    axes.legend()\n",
    "    axes.plot()"
   ]
  },
  {
   "cell_type": "code",
   "execution_count": 28,
   "metadata": {},
   "outputs": [],
   "source": [
    "def predict(net, char, h=None, temperature=0.2, lstm=False):\n",
    "        x = np.array([[token_index[char]]])\n",
    "        x = one_hot_encode(x, len(tokens))\n",
    "        inputs = torch.from_numpy(x).to(device)\n",
    "        if lstm:\n",
    "            h = tuple([each.data for each in h])\n",
    "        else:\n",
    "            h = h.detach()\n",
    "\n",
    "        out, h = net(inputs, h)\n",
    "\n",
    "        p = F.softmax(out/temperature, dim=1).data\n",
    "        p = p.cpu().numpy().squeeze()\n",
    "        char = np.random.choice(len(tokens), p=p/p.sum())\n",
    "        return index_token[char], h\n",
    "\n",
    "def generate_sample(char_rnn, seed_phrase=' Hello', max_length=100, temperature=1.0, lstm=False):\n",
    "    '''\n",
    "    ### Disclaimer: this is an example function for text generation.\n",
    "    ### You can either adapt it in your code or create your own function\n",
    "    \n",
    "    The function generates text given a phrase of length at least SEQ_LENGTH.\n",
    "    :param seed_phrase: prefix characters. The RNN is asked to continue the phrase\n",
    "    :param max_length: maximum output length, including seed_phrase\n",
    "    :param temperature: coefficient for sampling.  higher temperature produces more chaotic outputs, \n",
    "        smaller temperature converges to the single most likely output.\n",
    "        \n",
    "    Be careful with the model output. This model waits logits (not probabilities/log-probabilities)\n",
    "    of the next symbol.\n",
    "    '''\n",
    "\n",
    "    char_rnn.to(device)\n",
    "    char_rnn.eval()\n",
    "\n",
    "    chars_generated = [ch for ch in seed_phrase]\n",
    "    h = char_rnn.initial_state(1)\n",
    "    \n",
    "    #feed the seed phrase, if any\n",
    "    for ch in seed_phrase:\n",
    "        char, h = predict(char_rnn, ch, h, temperature, lstm=lstm)\n",
    "    \n",
    "    #start generating\n",
    "    chars_generated.append(char)\n",
    "    while len(chars_generated) < max_length:\n",
    "        char, h = predict(char_rnn, chars_generated[-1], h, temperature, lstm)\n",
    "        chars_generated.append(char)\n",
    "        \n",
    "    return ''.join(chars_generated)"
   ]
  },
  {
   "cell_type": "code",
   "execution_count": 29,
   "metadata": {},
   "outputs": [],
   "source": [
    "encoded = np.array([token_index[ch] for ch in text])\n",
    "split_index = int(len(encoded)*0.9)\n",
    "encoded_text_train, encoded_text_val = encoded[:split_index], encoded[split_index:]"
   ]
  },
  {
   "cell_type": "code",
   "execution_count": 30,
   "outputs": [
    {
     "name": "stdout",
     "output_type": "stream",
     "text": [
      "Epoch 1 of 100: training loss: 3.354557; validation loss: 3.377527\n",
      "Epoch 10 of 100: training loss: 3.076030; validation loss: 3.105921\n",
      "Epoch 20 of 100: training loss: 2.624316; validation loss: 2.670430\n",
      "Epoch 30 of 100: training loss: 2.503642; validation loss: 2.554001\n",
      "Epoch 40 of 100: training loss: 2.379858; validation loss: 2.428682\n",
      "Epoch 50 of 100: training loss: 2.318217; validation loss: 2.391557\n",
      "Epoch 60 of 100: training loss: 2.256143; validation loss: 2.341220\n",
      "Epoch 70 of 100: training loss: 2.199328; validation loss: 2.306563\n",
      "Epoch 80 of 100: training loss: 2.156571; validation loss: 2.285008\n",
      "Epoch 90 of 100: training loss: 2.115842; validation loss: 2.264848\n",
      "Epoch 100 of 100: training loss: 2.053368; validation loss: 2.252438\n"
     ]
    }
   ],
   "source": [
    "# finally, let's train it\n",
    "\n",
    "n_epoch = 100\n",
    "epoch_gap = 10\n",
    "\n",
    "net = CharRNNLoop(len(tokens), rnn_num_units=256,emb_size=83).to(device)\n",
    "train_loss, val_loss = train(net, encoded_text_train, encoded_text_val,\n",
    "                             epochs=n_epoch, show_epoch=epoch_gap,\n",
    "                             batch_size=100, seq_length=100)"
   ],
   "metadata": {
    "collapsed": false,
    "pycharm": {
     "name": "#%%\n"
    }
   }
  },
  {
   "cell_type": "code",
   "execution_count": 31,
   "outputs": [
    {
     "data": {
      "text/plain": "<Figure size 1080x360 with 1 Axes>",
      "image/png": "[encoded data removed]"
     },
     "metadata": {
      "needs_background": "light"
     },
     "output_type": "display_data"
    }
   ],
   "source": [
    "plot_train_process(train_loss, val_loss, epoch_gap)"
   ],
   "metadata": {
    "collapsed": false,
    "pycharm": {
     "name": "#%%\n"
    }
   }
  },
  {
   "cell_type": "code",
   "execution_count": 32,
   "outputs": [
    {
     "name": "stdout",
     "output_type": "stream",
     "text": [
      "довольно меня,\n",
      "в сердце весны она доло\n",
      "\n",
      "\n",
      "\n",
      "xxxvi\n",
      "\n",
      "на приводний сердце ей него\n",
      "в сердце свет онегин оне\n",
      "не востеренный страстили\n",
      "собразновой не своей\n",
      "и молов и вере сторен,\n",
      "и страсти в сердце головой,\n",
      "и в сердце нене сверенье\n",
      "\n",
      "\n",
      "\n",
      "xxii\n",
      "\n",
      "ена приветним она и тать,\n",
      "уж велет перел и постели\n",
      "старой постолит своей свот\n",
      "преденней сердце не востенье,\n",
      "и все деле не все далой\n",
      "постали с нем оне и слада\n",
      "и все деленный приводать,\n",
      "не страстит меня старина,\n",
      "в сердце в сердце головой,\n",
      "и в сердце серец неменей,\n",
      "и в \n"
     ]
    }
   ],
   "source": [
    "# An example of generated text.\n",
    "print(generate_sample(net, seed_phrase='довольно ', max_length=500, temperature=0.2))"
   ],
   "metadata": {
    "collapsed": false,
    "pycharm": {
     "name": "#%%\n"
    }
   }
  },
  {
   "cell_type": "markdown",
   "metadata": {},
   "source": [
    "### More poetic model\n",
    "\n",
    "Let's use LSTM instead of vanilla RNN and compare the results."
   ]
  },
  {
   "cell_type": "code",
   "execution_count": 33,
   "outputs": [],
   "source": [
    "class CharLSTMLoop(nn.Module):\n",
    "    def __init__(self, num_tokens, emb_size=38, rnn_num_units=64):\n",
    "        super(self.__class__, self).__init__()\n",
    "        self.num_units = rnn_num_units\n",
    "        self.rnn = nn.LSTM(emb_size, rnn_num_units, batch_first=True, num_layers=2, dropout=0.5)\n",
    "        self.lin = nn.Linear(rnn_num_units, num_tokens)\n",
    "\n",
    "    def forward(self, x, hidden):\n",
    "        out, hidden = self.rnn(x, hidden)\n",
    "        out = out.contiguous().view(-1, self.num_units)\n",
    "        out = self.lin(out)\n",
    "        return out, hidden\n",
    "\n",
    "    def initial_state(self, batch_size):\n",
    "        return (Variable(torch.zeros(2, batch_size, self.num_units)).to(device),\n",
    "                Variable(torch.zeros(2, batch_size, self.num_units)).to(device))"
   ],
   "metadata": {
    "collapsed": false,
    "pycharm": {
     "name": "#%%\n"
    }
   }
  },
  {
   "cell_type": "markdown",
   "metadata": {},
   "source": [
    "Plot the loss function of the number of epochs. Does the final loss become better?"
   ]
  },
  {
   "cell_type": "code",
   "execution_count": 34,
   "metadata": {
    "collapsed": true
   },
   "outputs": [
    {
     "name": "stdout",
     "output_type": "stream",
     "text": [
      "Epoch 1 of 100: training loss: 3.389557; validation loss: 3.425460\n",
      "Epoch 2 of 100\n",
      "Epoch 3 of 100\n",
      "Epoch 4 of 100\n",
      "Epoch 5 of 100\n",
      "Epoch 6 of 100\n",
      "Epoch 7 of 100\n",
      "Epoch 8 of 100\n",
      "Epoch 9 of 100\n",
      "Epoch 10 of 100: training loss: 3.268483; validation loss: 3.306181\n",
      "Epoch 11 of 100\n",
      "Epoch 12 of 100\n",
      "Epoch 13 of 100\n",
      "Epoch 14 of 100\n",
      "Epoch 15 of 100\n",
      "Epoch 16 of 100\n",
      "Epoch 17 of 100\n",
      "Epoch 18 of 100\n",
      "Epoch 19 of 100\n",
      "Epoch 20 of 100: training loss: 2.629158; validation loss: 2.689316\n",
      "Epoch 21 of 100\n",
      "Epoch 22 of 100\n",
      "Epoch 23 of 100\n",
      "Epoch 24 of 100\n",
      "Epoch 25 of 100\n",
      "Epoch 26 of 100\n",
      "Epoch 27 of 100\n",
      "Epoch 28 of 100\n",
      "Epoch 29 of 100\n",
      "Epoch 30 of 100: training loss: 2.429416; validation loss: 2.473901\n",
      "Epoch 31 of 100\n",
      "Epoch 32 of 100\n",
      "Epoch 33 of 100\n",
      "Epoch 34 of 100\n",
      "Epoch 35 of 100\n",
      "Epoch 36 of 100\n",
      "Epoch 37 of 100\n",
      "Epoch 38 of 100\n",
      "Epoch 39 of 100\n",
      "Epoch 40 of 100: training loss: 2.288752; validation loss: 2.334057\n",
      "Epoch 41 of 100\n",
      "Epoch 42 of 100\n",
      "Epoch 43 of 100\n",
      "Epoch 44 of 100\n",
      "Epoch 45 of 100\n",
      "Epoch 46 of 100\n",
      "Epoch 47 of 100\n",
      "Epoch 48 of 100\n",
      "Epoch 49 of 100\n",
      "Epoch 50 of 100: training loss: 2.168684; validation loss: 2.231544\n",
      "Epoch 51 of 100\n",
      "Epoch 52 of 100\n",
      "Epoch 53 of 100\n",
      "Epoch 54 of 100\n",
      "Epoch 55 of 100\n",
      "Epoch 56 of 100\n",
      "Epoch 57 of 100\n",
      "Epoch 58 of 100\n",
      "Epoch 59 of 100\n",
      "Epoch 60 of 100: training loss: 2.064554; validation loss: 2.162094\n",
      "Epoch 61 of 100\n",
      "Epoch 62 of 100\n",
      "Epoch 63 of 100\n",
      "Epoch 64 of 100\n",
      "Epoch 65 of 100\n",
      "Epoch 66 of 100\n",
      "Epoch 67 of 100\n",
      "Epoch 68 of 100\n",
      "Epoch 69 of 100\n",
      "Epoch 70 of 100: training loss: 1.955569; validation loss: 2.114184\n",
      "Epoch 71 of 100\n",
      "Epoch 72 of 100\n",
      "Epoch 73 of 100\n",
      "Epoch 74 of 100\n",
      "Epoch 75 of 100\n",
      "Epoch 76 of 100\n",
      "Epoch 77 of 100\n",
      "Epoch 78 of 100\n",
      "Epoch 79 of 100\n",
      "Epoch 80 of 100: training loss: 1.852965; validation loss: 2.093081\n",
      "Epoch 81 of 100\n",
      "Epoch 82 of 100\n",
      "Epoch 83 of 100\n",
      "Epoch 84 of 100\n",
      "Epoch 85 of 100\n",
      "Epoch 86 of 100\n",
      "Epoch 87 of 100\n",
      "Epoch 88 of 100\n",
      "Epoch 89 of 100\n",
      "Epoch 90 of 100: training loss: 1.734489; validation loss: 2.096535\n",
      "Epoch 91 of 100\n",
      "Epoch 92 of 100\n",
      "Epoch 93 of 100\n",
      "Epoch 94 of 100\n",
      "Epoch 95 of 100\n",
      "Epoch 96 of 100\n",
      "Epoch 97 of 100\n",
      "Epoch 98 of 100\n",
      "Epoch 99 of 100\n",
      "Epoch 100 of 100: training loss: 1.589213; validation loss: 2.133826\n"
     ]
    }
   ],
   "source": [
    "# Your beautiful code here\n",
    "\n",
    "n_epoch = 100\n",
    "epoch_gap = 10\n",
    "\n",
    "net = CharLSTMLoop(len(tokens), rnn_num_units=512, emb_size=83).to(device)\n",
    "train_loss, val_loss = train(net, encoded_text_train, encoded_text_val,\n",
    "                             epochs=n_epoch, show_epoch=epoch_gap,\n",
    "                             batch_size=100, seq_length=100, lstm=True)"
   ]
  },
  {
   "cell_type": "code",
   "execution_count": 35,
   "outputs": [
    {
     "data": {
      "text/plain": "<Figure size 1080x360 with 1 Axes>",
      "image/png": "[encoded data removed]"
     },
     "metadata": {
      "needs_background": "light"
     },
     "output_type": "display_data"
    }
   ],
   "source": [
    "plot_train_process(train_loss, val_loss, epoch_gap)"
   ],
   "metadata": {
    "collapsed": false,
    "pycharm": {
     "name": "#%%\n"
    }
   }
  },
  {
   "cell_type": "code",
   "execution_count": 36,
   "outputs": [
    {
     "name": "stdout",
     "output_type": "stream",
     "text": [
      "довольно слевать сона сосед.\n",
      "\n",
      "\n",
      "\n",
      "xxxiii\n",
      "\n",
      "но вы, как судит в облодать,\n",
      "и в том сердце последний мой,\n",
      "и слов и переста и встрети,\n",
      "и в том уж он весел весть\n",
      "и на сторонных скорей взор,\n",
      "когда ж нам друг мое в стох деви,\n",
      "и скучный мой и старины\n",
      "всё благоразные странной\n",
      "с полемой с ней и потом всех,\n",
      "и слез в пере в тем простился в нем.\n",
      "\n",
      "\n",
      "\n",
      "xxxiii\n",
      "\n",
      "когда ж начего там соседа\n",
      "поэта покоронный строги,\n",
      "в семенной в слезки солоненье,\n",
      "и всё благослива в столом\n",
      "не полно посленник порой\n",
      "не отворилась не постели\n",
      "\n"
     ]
    }
   ],
   "source": [
    "# An example of generated text.\n",
    "print(generate_sample(net, seed_phrase='довольно ', max_length=500, temperature=0.2, lstm=True))"
   ],
   "metadata": {
    "collapsed": false,
    "pycharm": {
     "name": "#%%\n"
    }
   }
  },
  {
   "cell_type": "markdown",
   "metadata": {},
   "source": [
    "Generate text using the trained net with different `temperature` parameter: `[0.1, 0.2, 0.5, 1.0, 2.0]`.\n",
    "\n",
    "Evaluate the results visually, try to interpret them."
   ]
  },
  {
   "cell_type": "code",
   "execution_count": 37,
   "metadata": {
    "collapsed": true
   },
   "outputs": [
    {
     "name": "stdout",
     "output_type": "stream",
     "text": [
      "============= Current temp: 0.1 =============\n",
      "прощай, онегин, мне пора мне скоро,\n",
      "и сердце блистая моей,\n",
      "как был не всё верно томной\n",
      "в своей солень в поле полены\n",
      "и сталины страсти и полкой,\n",
      "и сталы старинных долгой,\n",
      "не простить ее последной\n",
      "с ней негой скоре в постеленье\n",
      "в семей столон и своей души,\n",
      "и в самом делит и с ней свет.\n",
      "\n",
      "\n",
      "\n",
      "xxxii\n",
      "\n",
      "но так не сталал и с нем дале,\n",
      "и в саду скучно и свой дель\n",
      "и не все весто в полной лет\n",
      "и в самум сторонных страсти,\n",
      "и в следк перед и в сем перед,\n",
      "и в следким солецы сторонный,\n",
      "в семей светел ее порока\n",
      "и с\n",
      "\n",
      "============= Current temp: 0.2 =============\n",
      "прощай, онегин, мне пора меня,\n",
      "покойный старинных души.\n",
      "\n",
      "\n",
      "\n",
      "xxxii\n",
      "\n",
      "но вы, красавица в ней своей,\n",
      "и сердце было одежать\n",
      "и полно и того ж отка\n",
      "и сталость не постоли поле\n",
      "\n",
      "\n",
      "\n",
      "xxxiii\n",
      "\n",
      "как он онегин сколовой,\n",
      "подруг на страхом она вере\n",
      "и снова на стороных душкой,\n",
      "и следким молодых соседы\n",
      "и слад неверный и поэт,\n",
      "и страх не время по свете.\n",
      "\n",
      "\n",
      "\n",
      "xxxviii\n",
      "\n",
      "и вот полуд в скоре страшил\n",
      "и что ж и так е онегин страни\n",
      "с поклонник не поставил соску;\n",
      "но все другает на светел\n",
      "ее не посленник почтой,\n",
      "когда бы не в пос\n",
      "\n",
      "============= Current temp: 0.3 =============\n",
      "прощай, онегин, мне пора мне поэта,\n",
      "как там желанья в своей души,\n",
      "и в ольге не ветри страниц,\n",
      "но на был он всё веселой дной,\n",
      "и в сем сердце не в своей всем,\n",
      "в сердцем какей когда сторонный\n",
      "всё долго сердце был подушный,\n",
      "и в самом сторо на свете\n",
      "при старинный чести догой,\n",
      "и сердце в своей пораки,\n",
      "и весно был не поставила\n",
      "пред ним примети в том своей души,\n",
      "и в следк моей вот усталиный,\n",
      "и всё по совестной творет\n",
      "и на будно был порокать.\n",
      "\n",
      "\n",
      "\n",
      "xxxii\n",
      "\n",
      "но так не страшно и полет\n",
      "и пред своей томной и свет\n",
      "\n",
      "============= Current temp: 0.5 =============\n",
      "прощай, онегин, мне пора мне стала\n",
      "и сам не видет и светра,\n",
      "как сон мне в том скука в тому\n",
      "кругом насену звела мне;\n",
      "когда жи не всё труди мог!\n",
      "\n",
      "\n",
      "\n",
      "xxxi\n",
      "\n",
      "но в как безмолки на душал!\n",
      "\n",
      "\n",
      "\n",
      "xxxiv\n",
      "\n",
      "и скала было с темнем дани,\n",
      "прикажаст он всё том не бет;\n",
      "под ней как мой него поэтей,\n",
      "и всё об стренью подобралась,\n",
      "попрамне ль всё блистая наскужденья,\n",
      "подленный признакный такий\n",
      "не то ле девал и собранье\n",
      "татьяна в нем очеровал\n",
      "с учинаем в сердце неволь,\n",
      "и сного простить меженый дний\n",
      "потвелит онегин смолов,\n",
      "\n",
      "\n",
      "============= Current temp: 1.0 =============\n",
      "прощай, онегин, мне пора мне следатьми, шутяк в отейке,\n",
      "горитьских, не письам – они ской,\n",
      "гороям с уподной обротос;\n",
      "недуздо оклинует люкова,\n",
      "коснул он прздосьиде воли..\n",
      "перазъсядние моей» –\n",
      "\n",
      "\n",
      "\n",
      "xxxviii. и совзенный капин,\n",
      "пой сердцем чтобовый мечтанье\n",
      "запет жевкимиц муравить\n",
      "собям… полной, молодой.\n",
      "котурной след и брега нену\n",
      "уехин, поклонник желеный\n",
      "песцручные в хомпит нене,\n",
      "в оплух то нух на прочелтовет,\n",
      "и дула в егене ленский чья\n",
      "стуким, чуда в нетридела\n",
      "и стрымал лопицы кринет\n",
      "она волькому и п\n",
      "\n",
      "============= Current temp: 2.0 =============\n",
      "прощай, онегин, мне пора гыну,\n",
      "чювом отклизашилы».\n",
      "адигмы бы! ершо: вечу,\n",
      "(нугей кы, волста?\n",
      "ныхойздалжаз свое!»,\n",
      "иа-мин фрюпциля; яднока\n",
      "дрожкизо нерзалая люгрова:!…»?le. я?…тс–uо»,. шоt«ььбгау»,»г\n",
      "пуепраёсей гобомы!\n",
      "вегирул ренчовнах шна5?\n",
      "–л, ел! dxnhcda€?l, zя,сb»ele emno’bеc,aааз,\n",
      "вмытехь д сейзенок уфлыбецин!\n",
      "–\n",
      "еещде?  вьен. еж, кучес\n",
      "лю,.ев-гменя… мне пладущает!\n",
      "я цужт! и ню «поски, никаум чутты:\n",
      "олиз пытно и ювоюс».\n",
      ".\n",
      "инвя, пекон,ит, ае з,очей\n",
      "не каницесь юн эсесвьн холют.\n",
      "хупойснобу, ям\n",
      "\n"
     ]
    }
   ],
   "source": [
    "# Text generation with different temperature values here\n",
    "\n",
    "for temp in [0.1, 0.2, 0.3, 0.5, 1.0, 2.0]:\n",
    "    print('============= Current temp: {} ============='.format(temp))\n",
    "    print(generate_sample(net, max_length=500, seed_phrase='прощай, онегин, мне пора ', temperature=temp, lstm=True))\n",
    "    print()"
   ]
  },
  {
   "cell_type": "markdown",
   "metadata": {},
   "source": [
    "### Saving and loading models"
   ]
  },
  {
   "cell_type": "markdown",
   "metadata": {},
   "source": [
    "Save the model to the disk, then load it and generate text. Examples are available [here](https://pytorch.org/tutorials/beginner/saving_loading_models.html])."
   ]
  },
  {
   "cell_type": "code",
   "execution_count": 38,
   "metadata": {
    "collapsed": true
   },
   "outputs": [
    {
     "name": "stdout",
     "output_type": "stream",
     "text": [
      "спелое блидот.\n",
      "\n",
      "\n",
      "\n",
      "xxviii\n",
      "\n",
      "и рачно толка тани друга,\n",
      "печально ине вослидьяет\n",
      "расскам сумроши блещет нет\n",
      "как булочань в полев коскем,\n",
      "пой какой нестибя сегевий;\n",
      "пройзут хотоф другь с изукой.\n",
      "\n",
      "\n",
      "\n",
      "xiii\n",
      "\n",
      "я сначин, тогу, мянять своей\n",
      "свитались мокло поролка.\n",
      "кого-на предтаму засять,\n",
      "заачался с? куковь небравдо,\n",
      "его всех толея дверец.\n",
      "\n",
      "\n",
      "\n",
      "xlix\n",
      "\n",
      "ханьчал сж ей утпа по однам,\n",
      "онегин слоза в охляжает,\n",
      "напясный верний ленский ром\n",
      "ек пришуй, что таа, как на шум\n",
      "очин пуйку шумно они.\n",
      "но ужели блиго: простой,\n",
      "ну\n"
     ]
    }
   ],
   "source": [
    "# Saving and loading code here\n",
    "\n",
    "torch.save(net.state_dict(), './model.pt')\n",
    "loaded_model = CharLSTMLoop(len(tokens), rnn_num_units=512, emb_size=83).to(device)\n",
    "loaded_model.load_state_dict(torch.load('./model.pt'))\n",
    "loaded_model.eval()\n",
    "print(generate_sample(loaded_model, max_length=500, lstm=True, seed_phrase='спелое '))"
   ]
  },
  {
   "cell_type": "markdown",
   "metadata": {},
   "source": [
    "#### Итоговое сравнение\n",
    "\n",
    "LSTM показало более вразумительные результаты, особенно на английском языке.\n",
    "Великий и могучий так просто, видимо, не даётся.\n",
    "У LSTM можно найти значительно больше настоящих слов, чем у ванильной версии.\n",
    "\n",
    "Тем не менее, ванильная версия смогла показать неплохой результат\n",
    "после обучения на произведении Война и Мир:\n",
    "\n",
    "_пусть князя андрея в пристовной солдаты, как будто она она не уже простенное дело, как будто он положила она принила князь андрей вышел в комнате как бы все повел на него последния к своей комнату с такими своем обезать с тем же не понимаю, что он половения и подумал в колоно она обратилась к себе, что на все это простовой командир знал, что она застояла в своей заметив на коготом, очень хорошо и подороволись с таким голово в комнате от принят его в глаза и от толосо слово его надо было над себя_\n",
    "\n",
    "Таким же образом обученная LSTM тоже показала хороший результат, но\n",
    "ванильная версия, можно сказать, меня удивила.\n",
    "\n",
    "Ещё я порадовался, что у меня хорошая видеокарта, вычисления не занимали больше 5 минут.\n",
    "Коллеги говорили, что LSTM на CPU обучалась почти час."
   ]
  },
  {
   "cell_type": "markdown",
   "source": [
    "### References\n",
    "1. <a href='http://karpathy.github.io/2015/05/21/rnn-effectiveness/'> Andrew Karpathy blog post about RNN. </a> \n",
    "There are several examples of genration: Shakespeare texts, Latex formulas, Linux Sourse Code and children names.\n",
    "2. <a href='https://github.com/karpathy/char-rnn'> Repo with char-rnn code </a>\n",
    "3. Cool repo with PyTorch examples: [link](https://github.com/spro/practical-pytorch`)"
   ],
   "metadata": {
    "collapsed": false,
    "pycharm": {
     "name": "#%% md\n"
    }
   }
  }
 ],
 "metadata": {
  "anaconda-cloud": {},
  "kernelspec": {
   "display_name": "Python 3",
   "language": "python",
   "name": "python3"
  },
  "language_info": {
   "codemirror_mode": {
    "name": "ipython",
    "version": 3
   },
   "file_extension": ".py",
   "mimetype": "text/x-python",
   "name": "python",
   "nbconvert_exporter": "python",
   "pygments_lexer": "ipython3",
   "version": "3.7.7"
  }
 },
 "nbformat": 4,
 "nbformat_minor": 2
}