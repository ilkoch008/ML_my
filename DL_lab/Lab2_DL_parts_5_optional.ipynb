{
 "cells": [
  {
   "cell_type": "code",
   "execution_count": 1,
   "outputs": [
    {
     "name": "stdout",
     "output_type": "stream",
     "text": [
      "cuda\n"
     ]
    }
   ],
   "source": [
    "from PIL import Image\n",
    "from torchvision.transforms import ToTensor\n",
    "import torchvision.transforms as transforms\n",
    "import torchvision.models as models\n",
    "import os\n",
    "from random import shuffle\n",
    "import torchsummary\n",
    "import torch\n",
    "import torch.nn as nn\n",
    "import time\n",
    "import numpy as np\n",
    "import matplotlib.pyplot as plt\n",
    "import gc\n",
    "import random\n",
    "\n",
    "device = torch.device(\"cuda\") if torch.cuda.is_available() else torch.device(\"cpu\")\n",
    "\n",
    "print(device)\n",
    "\n",
    "image_std = [0.229, 0.224, 0.225]\n",
    "image_mean = [0.485, 0.456, 0.406]\n",
    "input_size = 224\n",
    "\n",
    "def process_im(image):\n",
    "    # x, y = image.size\n",
    "    # max_size = max(x,y)\n",
    "    # hms = int(max_size/2)\n",
    "    # lh_x = 0\n",
    "    # lh_y = 0\n",
    "    # if x > y:\n",
    "    #     lh_y = int(hms - y/2)\n",
    "    # else:\n",
    "    #     lh_x = int(hms - x/2)\n",
    "    # new_image = Image.new(\"RGB\", (max_size, max_size), color=0)\n",
    "    # new_image.paste(image,(lh_x,lh_y,lh_x+x,lh_y+y))\n",
    "    # new_image = new_image.resize((224,224))\n",
    "    # new_image.transpose(Image.FLIP_LEFT_RIGHT).show()\n",
    "    new_image = transforms.RandomRotation(degrees = 20)(image)\n",
    "    new_image = transforms.RandomRotation(degrees = 10)(new_image)\n",
    "    new_image = transforms.Resize((input_size, input_size), interpolation=4)(new_image)\n",
    "    new_image = ToTensor()(new_image)\n",
    "    new_image = transforms.Normalize(image_mean, image_std)(new_image)\n",
    "    new_image = transforms.RandomHorizontalFlip()(new_image)\n",
    "    return new_image\n",
    "\n",
    "class DataLoader:\n",
    "    def __init__(self):\n",
    "        self.train_loader = None\n",
    "        self.val_loader = None\n",
    "        self.test_loader = None\n",
    "        self.data = None\n",
    "\n",
    "    def get_t_v_loaders(self):\n",
    "        self.data = list()\n",
    "        for i in range(0, 50):\n",
    "            for j in range(0,200):\n",
    "                if os.path.isfile(\"data/train/\"+str(i)+\"/\"+str(j)+\".jpeg\"):\n",
    "                    img_path = \"data/train/\"+str(i)+\"/\"+str(j)+\".jpeg\"\n",
    "                    init_image = Image.open(img_path)\n",
    "                    self.data.append((process_im(init_image), int(i)))\n",
    "                    self.data.append((process_im(init_image), int(i)))\n",
    "                    # self.data.append((process_im(init_image), int(i)))\n",
    "                    # self.data.append((process_im(init_image), int(i)))\n",
    "                    # data.append((process_im(init_image.rotate(angle=20)), int(i)))\n",
    "                    # data.append((process_im(init_image.rotate(angle=-20)), int(i)))\n",
    "                    # mirrored_image = init_image.transpose(Image.FLIP_LEFT_RIGHT)\n",
    "                    # self.data.append((process_im(mirrored_image), int(i)))\n",
    "                    # data.append((process_im(mirrored_image.rotate(angle=20)), int(i)))\n",
    "                    # data.append((process_im(mirrored_image.rotate(angle=-20)), int(i)))\n",
    "        shuffle(self.data)\n",
    "        split_index1 = int(0.9 * self.data.__len__())\n",
    "        split_index2 = int(0.95 * self.data.__len__())\n",
    "        train_dataset, val_dataset, test_dataset = self.data[:split_index1], self.data[split_index1:split_index2], self.data[split_index2:]\n",
    "\n",
    "        self.train_loader = torch.utils.data.DataLoader(train_dataset,\n",
    "                                                   batch_size=12,\n",
    "                                                   shuffle=True,\n",
    "                                                   num_workers=0,\n",
    "                                                   drop_last=True)\n",
    "        self.val_loader = torch.utils.data.DataLoader(val_dataset,\n",
    "                                                   batch_size=12,\n",
    "                                                   shuffle = False,\n",
    "                                                   num_workers = 0,\n",
    "                                                   drop_last=True)\n",
    "        self.test_loader = torch.utils.data.DataLoader(test_dataset,\n",
    "                                                  batch_size=6,\n",
    "                                                  shuffle=False,\n",
    "                                                  num_workers=0,\n",
    "                                                  drop_last=True)\n",
    "        gc.collect()\n",
    "        return self.train_loader, self.val_loader\n",
    "\n",
    "def train_model(model, train_loader, val_loader, loss_fn, opt, n_epochs: int, device=device, decr_coeff = 1, decr_ep_n = 10):\n",
    "    '''\n",
    "    model: нейросеть для обучения,\n",
    "    train_loader, val_loader: загрузчики данных\n",
    "    loss_fn: целевая метрика (которую будем оптимизировать)\n",
    "    opt: оптимизатор (обновляет веса нейросети)\n",
    "    n_epochs: кол-во эпох, полных проходов датасета\n",
    "    '''\n",
    "\n",
    "    train_loss = []\n",
    "    val_loss = []\n",
    "    train_accuracy = []\n",
    "    val_accuracy = []\n",
    "    counter = 0\n",
    "\n",
    "    for epoch in range(n_epochs):\n",
    "        ep_train_loss = []\n",
    "        ep_val_loss = []\n",
    "        ep_train_accuracy = []\n",
    "        ep_val_accuracy = []\n",
    "        start_time = time.time()\n",
    "        counter += 1\n",
    "        if counter == decr_ep_n:\n",
    "            counter = 0\n",
    "            for g in opt.param_groups:\n",
    "                g['lr'] = g['lr'] / decr_coeff\n",
    "        model.train(True) # enable dropout / batch_norm training behavior\n",
    "        for X_batch, y_batch in train_loader:\n",
    "            opt.zero_grad()\n",
    "            # move data to target device\n",
    "            X_batch, y_batch = X_batch.to(device), y_batch.to(device)\n",
    "            # train on batch: compute loss, calc grads, perform optimizer step and zero the grads\n",
    "            out = model(X_batch)\n",
    "            loss = loss_fn(out, y_batch)\n",
    "            loss.backward()\n",
    "            opt.step()\n",
    "            ep_train_loss.append(loss.item())\n",
    "            ep_train_accuracy.append(torch_accuracy_score(y_batch, model(X_batch)))\n",
    "        model.train(False) # disable dropout / use averages for batch_norm\n",
    "        with torch.no_grad():\n",
    "            for X_batch, y_batch in val_loader:\n",
    "                # move data to target device\n",
    "                X_batch, y_batch = X_batch.to(device), y_batch.to(device)\n",
    "                # train on batch: compute loss, calc grads, perform optimizer step and zero the grads\n",
    "                out = model(X_batch)\n",
    "                loss = loss_fn(out, y_batch)\n",
    "                # compute predictions\n",
    "                ep_val_loss.append(loss.item())\n",
    "                y_pred = out.max(dim=1)[1]\n",
    "                ep_val_accuracy.append(np.sum(y_batch.cpu().numpy() == y_pred.cpu().numpy().astype(float))/ len(y_batch.cpu()))\n",
    "        # print the results for this epoch:\n",
    "        print(f'Epoch {epoch + 1} of {n_epochs} took {time.time() - start_time:.3f}s')\n",
    "        train_loss.append(np.mean(ep_train_loss))\n",
    "        train_accuracy.append(np.mean(ep_train_accuracy))\n",
    "        val_loss.append(np.mean(ep_val_loss))\n",
    "        val_accuracy.append(np.mean(ep_val_accuracy))\n",
    "        print(f\"\\t training loss: {train_loss[-1]:.6f}\")\n",
    "        print(f\"\\t training accuracy: {train_accuracy[-1]:.6f}\")\n",
    "        print(f\"\\t validation loss: {val_loss[-1]:.6f}\")\n",
    "        print(f\"\\t validation accuracy: {val_accuracy[-1]:.3f}\")\n",
    "\n",
    "    return train_loss, train_accuracy, val_loss, val_accuracy\n",
    "\n",
    "def torch_accuracy_score(y_true, predictions):\n",
    "    y_pred = predictions.max(dim=1)[1]\n",
    "    return np.mean(np.array(y_true.cpu() == y_pred.cpu()))\n",
    "\n",
    "def plot_training(tr_loss, tr_acc, val_loss, val_acc):\n",
    "    fig, axes = plt.subplots(1, 2, figsize=(16, 6))\n",
    "\n",
    "    axes[0].set_title('Accuracy')\n",
    "    axes[0].plot(tr_acc, label='Training accuracy')\n",
    "    axes[0].plot(val_acc, label='Validation accuracy')\n",
    "    axes[0].set_xlabel('n epoch')\n",
    "    axes[0].grid(True)\n",
    "    axes[0].legend()\n",
    "\n",
    "    axes[1].set_title('Loss')\n",
    "    axes[1].plot(tr_loss, label='Training loss')\n",
    "    axes[1].plot(val_loss, label='Validation loss')\n",
    "    axes[1].set_xlabel('n epoch')\n",
    "    axes[1].grid(True)\n",
    "    axes[1].legend()\n",
    "\n",
    "    plt.show()\n",
    "\n",
    "def model_test_score(model, test_loader):\n",
    "    test_accuracy = []\n",
    "    with torch.no_grad():\n",
    "        for X_batch, y_batch in test_loader:\n",
    "            X_batch, y_batch = X_batch.to(device), y_batch.to(device)\n",
    "            predictions = model(X_batch)\n",
    "            test_accuracy.append(torch_accuracy_score(y_batch.flatten(), predictions))\n",
    "\n",
    "    return np.mean(test_accuracy)\n"
   ],
   "metadata": {
    "collapsed": false,
    "pycharm": {
     "name": "#%%\n"
    }
   }
  },
  {
   "cell_type": "markdown",
   "source": [
    "### Part 5. Dogs classification (2+ points)\n",
    "__Disclaimer__: Это опциональная часть задания. Здесь придется экспериментировать, подбирать оптимальную структуру сети для решения задачи и активно искать подскзаки в сети.\n",
    "\n",
    "Предлагаем вам решить задачу классификации пород собак. Вы можете обучить сеть с нуля или же воспользоваться методом fine-tuning'а. Полезная ссылка на [предобученные модели](https://pytorch.org/docs/stable/torchvision/models.html).\n",
    "\n",
    "Данные можно скачать [отсюда](https://www.dropbox.com/s/vgqpz2f1lolxmlv/data.zip?dl=0). Датасет представлен 50 классами пород собак, которые можно найти в папке train в соответствующих директориях. При сдаче данной части задания вместе с ноутбуком необходимо отправить .csv-файл с предсказаниями классов тестовой выборки в формате: <имя изображения>,<метка класса> по одному объекту на строку. Ниже приведите код ваших экспериментов и короткий вывод по их результатам.\n",
    "\n",
    "Будут оцениваться качество классификации (accuracy) на тестовой выборке (2 балла) и проведенные эксперименты (1 балл).\n",
    "Разбалловка следующая:\n",
    "* $>=$93% - 2 points\n",
    "* $>=$84% - 1.5 points\n",
    "* $>=$70% - 0.75 points\n",
    "\n",
    "#### Результаты:\n",
    "\n",
    "Сначала я пытался создать и обучить свою свёрточную сеть, но, как можно догадаться,\n",
    "у меня ничего не вышло.\n",
    "\n",
    "Потом я подтянул предобученный ResNet-152 и результат стал значительно лучше: 91.6%.\n",
    "\n",
    "Затем я попробовал resnext101_32x8d, но результат остался примерно на том же уровне:\n",
    "90.6%.\n",
    "\n",
    "Стоит отметить, что до этого момента исходные изображения я подгонял под квадрат\n",
    "путём добавления чёрной рамки. Теперь же, по наставлению более опытных\n",
    "товарищей, я буду пробовать просто растягивать\n",
    "изображение и ещё нормализовывать. Так же я несколько усложнил fc слой,\n",
    "до этого у меня использовалось 3 линейных отображения, теперь их 6.\n",
    "\n",
    "С нормализацией ничего не вышло, вероятно я что-то сделал не так.\n",
    "Вернул добавление чёрных рамок.\n",
    "\n",
    "Вернул число слоёв и ResNet, ResNext слишком долго обучалась.\n",
    "\n",
    "Ничего не понял. На AdamW accuracy на первой эпохе меньше 1%.\n",
    "Заменил на SGD - сразу 30%. Попробую вернуть кучу слоёв с SGD.\n",
    "И ResNext заодно попробую вернуть.\n",
    "\n",
    "Получилась фигня, возвращаю ResNet152. 6 линейных слоёв пока оставил.\n",
    "\n",
    "Всё то же. Попробую 4 слоя. Получилось что-то вразумительное, пока считается.\n",
    "До сдачи, скорее всего, ещё что-то посчитать не успею, но хотелось бы\n",
    "немного переделать аугментацию данных. Результат получился хуже, чем бывало раньше.\n",
    "\n",
    "Переделал обработку картинок. На тесте получилось 88%.\n",
    "\n",
    "Вернул Resnext c тремя линейными слоями.  88.5%"
   ],
   "metadata": {
    "collapsed": false
   }
  },
  {
   "cell_type": "code",
   "execution_count": 2,
   "outputs": [],
   "source": [
    "# Your experiments here\n"
   ],
   "metadata": {
    "collapsed": false,
    "pycharm": {
     "name": "#%%\n"
    }
   }
  },
  {
   "cell_type": "code",
   "execution_count": 11,
   "outputs": [],
   "source": [],
   "metadata": {
    "collapsed": false,
    "pycharm": {
     "name": "#%%\n"
    }
   }
  },
  {
   "cell_type": "code",
   "execution_count": 4,
   "outputs": [
    {
     "data": {
      "text/plain": "torch.Size([3, 224, 224])"
     },
     "execution_count": 4,
     "metadata": {},
     "output_type": "execute_result"
    }
   ],
   "source": [
    "img_path = \"data/train/0/63.jpeg\"\n",
    "init_image = Image.open(img_path)\n",
    "process_im(init_image).shape"
   ],
   "metadata": {
    "collapsed": false,
    "pycharm": {
     "name": "#%%\n"
    }
   }
  },
  {
   "cell_type": "code",
   "execution_count": 4,
   "outputs": [],
   "source": [],
   "metadata": {
    "collapsed": false,
    "pycharm": {
     "name": "#%%\n"
    }
   }
  },
  {
   "cell_type": "code",
   "execution_count": 5,
   "outputs": [
    {
     "name": "stdout",
     "output_type": "stream",
     "text": [
      "torch.Size([3, 224, 224])\n",
      "14228\n"
     ]
    }
   ],
   "source": [
    "# for x, y in data:\n",
    "#     print(x.shape)\n",
    "#     break\n",
    "#\n",
    "# print(len(data))"
   ],
   "metadata": {
    "collapsed": false,
    "pycharm": {
     "name": "#%%\n"
    }
   }
  },
  {
   "cell_type": "code",
   "execution_count": 6,
   "outputs": [
    {
     "name": "stdout",
     "output_type": "stream",
     "text": [
      "11382\n",
      "1423\n",
      "1423\n"
     ]
    },
    {
     "data": {
      "text/plain": "38"
     },
     "execution_count": 6,
     "metadata": {},
     "output_type": "execute_result"
    }
   ],
   "source": [
    "# split_index1 = int(0.8 * data.__len__())\n",
    "# split_index2 = int(0.9 * data.__len__())\n",
    "# train_dataset, val_dataset, test_dataset = data[:split_index1], data[split_index1:split_index2], data[split_index2:]\n",
    "# print(len(train_dataset))\n",
    "# print(len(val_dataset))\n",
    "# print(len(test_dataset))\n",
    "# gc.collect()"
   ],
   "metadata": {
    "collapsed": false,
    "pycharm": {
     "name": "#%%\n"
    }
   }
  },
  {
   "cell_type": "code",
   "execution_count": 8,
   "outputs": [
    {
     "name": "stdout",
     "output_type": "stream",
     "text": [
      "torch.Size([16, 3, 224, 224])\n"
     ]
    }
   ],
   "source": [
    "# train_loader = torch.utils.data.DataLoader(train_dataset,\n",
    "#                                            batch_size=16,\n",
    "#                                            shuffle=True,\n",
    "#                                            num_workers=0)\n",
    "# val_loader = torch.utils.data.DataLoader(val_dataset,\n",
    "#                                            batch_size=16,\n",
    "#                                            shuffle = False,\n",
    "#                                            num_workers = 0)\n",
    "# test_loader = torch.utils.data.DataLoader(test_dataset,\n",
    "#                                           batch_size=8,\n",
    "#                                           shuffle=False,\n",
    "#                                           num_workers=0)\n",
    "#\n",
    "# for x, y in train_loader:\n",
    "#     print(x.shape)\n",
    "#     break"
   ],
   "metadata": {
    "collapsed": false,
    "pycharm": {
     "name": "#%%\n"
    }
   }
  },
  {
   "cell_type": "code",
   "execution_count": null,
   "outputs": [],
   "source": [
    "class NeuralNetwork(nn.Module):\n",
    "    def __init__(self, input_shape=3*256*256, num_classes=50, input_channels=1):\n",
    "        super(self.__class__, self).__init__()\n",
    "        self.model = nn.Sequential(\n",
    "            nn.Conv2d(in_channels=3, out_channels=3, kernel_size=257, stride=1, padding=128), # out 256\n",
    "            nn.BatchNorm2d(3),\n",
    "            nn.ReLU(),\n",
    "\n",
    "            # ================================================================\n",
    "            nn.Conv2d(in_channels=3, out_channels=3, kernel_size=257, stride=1, padding=128), # out 256\n",
    "            nn.BatchNorm2d(3),\n",
    "            nn.ReLU(),\n",
    "            nn.MaxPool2d(kernel_size=2,stride=2), # out 128\n",
    "\n",
    "            # ================================================================\n",
    "            nn.Conv2d(in_channels=3, out_channels=3, kernel_size=129, stride=1, padding=64),# out 128\n",
    "            nn.BatchNorm2d(3),\n",
    "            nn.ReLU(),\n",
    "\n",
    "            # ================================================================\n",
    "            nn.Conv2d(in_channels=3, out_channels=3, kernel_size=129, stride=1, padding=64),# out 128\n",
    "            nn.BatchNorm2d(3),\n",
    "            nn.ReLU(),\n",
    "            nn.MaxPool2d(kernel_size=2,stride=2),# out 64\n",
    "\n",
    "            # ================================================================\n",
    "            nn.Conv2d(in_channels=3, out_channels=3, kernel_size=65, stride=1, padding=32),# out 64\n",
    "            nn.BatchNorm2d(3),\n",
    "            nn.ReLU(),\n",
    "\n",
    "            # ================================================================\n",
    "            nn.Conv2d(in_channels=3, out_channels=3, kernel_size=65, stride=1, padding=32),# out 64\n",
    "            nn.BatchNorm2d(3),\n",
    "            nn.ReLU(),\n",
    "            nn.MaxPool2d(kernel_size=2,stride=2),# out 32\n",
    "\n",
    "            # ================================================================\n",
    "            nn.Conv2d(in_channels=3, out_channels=3, kernel_size=33, stride=1, padding=16),# out 32\n",
    "            nn.BatchNorm2d(3),\n",
    "            nn.ReLU(),\n",
    "\n",
    "            # ================================================================\n",
    "            nn.Conv2d(in_channels=3, out_channels=3, kernel_size=33, stride=1, padding=16),# out 32\n",
    "            nn.BatchNorm2d(3),\n",
    "            nn.ReLU(),\n",
    "            nn.MaxPool2d(kernel_size=2,stride=2),# out 16\n",
    "\n",
    "            # ================================================================\n",
    "            nn.Conv2d(in_channels=3, out_channels=3, kernel_size=17, stride=1, padding=8),# out 16\n",
    "            nn.BatchNorm2d(3),\n",
    "            nn.ReLU(),\n",
    "\n",
    "            # ================================================================\n",
    "            nn.Conv2d(in_channels=3, out_channels=3, kernel_size=17, stride=1, padding=8),# out 16\n",
    "            nn.BatchNorm2d(3),\n",
    "            nn.ReLU(),\n",
    "            nn.MaxPool2d(kernel_size=2,stride=2), # out 8 => 8*8*3=192\n",
    "            # ================================================================\n",
    "            nn.Flatten(),\n",
    "            nn.Linear(192, num_classes),\n",
    "            nn.BatchNorm1d(num_classes, eps = 1e-3, momentum = 0.1),\n",
    "            nn.LogSoftmax(dim = 1)\n",
    "        )\n",
    "\n",
    "    def forward(self, inp):\n",
    "        out = self.model(inp)\n",
    "        return out\n",
    "\n",
    "torchsummary.summary(NeuralNetwork().to(device), (3,256,256))"
   ],
   "metadata": {
    "collapsed": false,
    "pycharm": {
     "name": "#%%\n",
     "is_executing": true
    }
   }
  },
  {
   "cell_type": "code",
   "execution_count": 31,
   "outputs": [
    {
     "name": "stdout",
     "output_type": "stream",
     "text": [
      "----------------------------------------------------------------\n",
      "        Layer (type)               Output Shape         Param #\n",
      "================================================================\n",
      "            Conv2d-1          [-1, 3, 224, 224]           9,804\n",
      "       BatchNorm2d-2          [-1, 3, 224, 224]               6\n",
      "              Tanh-3          [-1, 3, 224, 224]               0\n",
      "            Conv2d-4          [-1, 3, 192, 192]           9,804\n",
      "       BatchNorm2d-5          [-1, 3, 192, 192]               6\n",
      "              Tanh-6          [-1, 3, 192, 192]               0\n",
      "            Conv2d-7          [-1, 3, 160, 160]           9,804\n",
      "       BatchNorm2d-8          [-1, 3, 160, 160]               6\n",
      "              Tanh-9          [-1, 3, 160, 160]               0\n",
      "           Conv2d-10          [-1, 3, 128, 128]           9,804\n",
      "      BatchNorm2d-11          [-1, 3, 128, 128]               6\n",
      "             Tanh-12          [-1, 3, 128, 128]               0\n",
      "           Conv2d-13            [-1, 3, 96, 96]           9,804\n",
      "      BatchNorm2d-14            [-1, 3, 96, 96]               6\n",
      "             Tanh-15            [-1, 3, 96, 96]               0\n",
      "           Conv2d-16            [-1, 3, 64, 64]           9,804\n",
      "      BatchNorm2d-17            [-1, 3, 64, 64]               6\n",
      "             Tanh-18            [-1, 3, 64, 64]               0\n",
      "           Conv2d-19            [-1, 3, 32, 32]           9,804\n",
      "      BatchNorm2d-20            [-1, 3, 32, 32]               6\n",
      "             Tanh-21            [-1, 3, 32, 32]               0\n",
      "          Flatten-22                 [-1, 3072]               0\n",
      "           Linear-23                  [-1, 512]       1,573,376\n",
      "      BatchNorm1d-24                  [-1, 512]           1,024\n",
      "        LeakyReLU-25                  [-1, 512]               0\n",
      "           Linear-26                   [-1, 50]          25,650\n",
      "      BatchNorm1d-27                   [-1, 50]             100\n",
      "       LogSoftmax-28                   [-1, 50]               0\n",
      "================================================================\n",
      "Total params: 1,668,820\n",
      "Trainable params: 1,668,820\n",
      "Non-trainable params: 0\n",
      "----------------------------------------------------------------\n",
      "Input size (MB): 0.75\n",
      "Forward/backward pass size (MB): 9.88\n",
      "Params size (MB): 6.37\n",
      "Estimated Total Size (MB): 17.00\n",
      "----------------------------------------------------------------\n"
     ]
    }
   ],
   "source": [
    "class TinyNeuralNetwork(nn.Module):\n",
    "    def __init__(self, input_shape=3*256*256, num_classes=50, input_channels=1):\n",
    "        super(self.__class__, self).__init__()\n",
    "        self.model = nn.Sequential(\n",
    "            nn.Conv2d(in_channels=3, out_channels=3, kernel_size=33),\n",
    "            nn.BatchNorm2d(3),\n",
    "            nn.Tanh(),\n",
    "            nn.Conv2d(in_channels=3, out_channels=3, kernel_size=33),\n",
    "            nn.BatchNorm2d(3),\n",
    "            nn.Tanh(),\n",
    "            nn.Conv2d(in_channels=3, out_channels=3, kernel_size=33),\n",
    "            nn.BatchNorm2d(3),\n",
    "            nn.Tanh(),\n",
    "            nn.Conv2d(in_channels=3, out_channels=3, kernel_size=33),\n",
    "            nn.BatchNorm2d(3),\n",
    "            nn.Tanh(),\n",
    "            nn.Conv2d(in_channels=3, out_channels=3, kernel_size=33),\n",
    "            nn.BatchNorm2d(3),\n",
    "            nn.Tanh(),\n",
    "            nn.Conv2d(in_channels=3, out_channels=3, kernel_size=33),\n",
    "            nn.BatchNorm2d(3),\n",
    "            nn.Tanh(),\n",
    "            nn.Conv2d(in_channels=3, out_channels=3, kernel_size=33),\n",
    "            nn.BatchNorm2d(3),\n",
    "            nn.Tanh(),\n",
    "            nn.Flatten(),\n",
    "            nn.Linear(3*1024, 512),\n",
    "            nn.BatchNorm1d(512, eps = 1e-3, momentum = 0.1),\n",
    "            nn.LeakyReLU(),\n",
    "            nn.Linear(512, num_classes),\n",
    "            nn.BatchNorm1d(num_classes, eps = 1e-3, momentum = 0.1),\n",
    "            nn.LogSoftmax(dim = 1)\n",
    "        )\n",
    "\n",
    "    def forward(self, inp):\n",
    "        out = self.model(inp)\n",
    "        return out\n",
    "\n",
    "torchsummary.summary(TinyNeuralNetwork().to(device), (3,256,256))"
   ],
   "metadata": {
    "collapsed": false,
    "pycharm": {
     "name": "#%%\n"
    }
   }
  },
  {
   "cell_type": "code",
   "execution_count": 38,
   "outputs": [
    {
     "name": "stdout",
     "output_type": "stream",
     "text": [
      "Epoch 1 of 15 took 447.933s\n",
      "\t training loss: 4.244641\n",
      "\t training accuracy: 0.029399\n",
      "\t validation loss: 4.151382\n",
      "\t validation accuracy: 0.024\n",
      "Epoch 2 of 15 took 449.960s\n",
      "\t training loss: 3.999197\n",
      "\t training accuracy: 0.043579\n",
      "\t validation loss: 4.016223\n",
      "\t validation accuracy: 0.041\n",
      "Epoch 3 of 15 took 448.991s\n",
      "\t training loss: 3.940243\n",
      "\t training accuracy: 0.047861\n",
      "\t validation loss: 3.946295\n",
      "\t validation accuracy: 0.036\n",
      "Epoch 4 of 15 took 448.044s\n",
      "\t training loss: 3.902750\n",
      "\t training accuracy: 0.048323\n",
      "\t validation loss: 3.924788\n",
      "\t validation accuracy: 0.037\n",
      "Epoch 5 of 15 took 447.892s\n",
      "\t training loss: 3.870261\n",
      "\t training accuracy: 0.048470\n",
      "\t validation loss: 3.902748\n",
      "\t validation accuracy: 0.044\n",
      "Epoch 6 of 15 took 448.163s\n",
      "\t training loss: 3.849815\n",
      "\t training accuracy: 0.053649\n",
      "\t validation loss: 3.889932\n",
      "\t validation accuracy: 0.047\n",
      "Epoch 7 of 15 took 448.179s\n",
      "\t training loss: 3.827574\n",
      "\t training accuracy: 0.051998\n",
      "\t validation loss: 3.880684\n",
      "\t validation accuracy: 0.038\n",
      "Epoch 8 of 15 took 448.080s\n",
      "\t training loss: 3.805954\n",
      "\t training accuracy: 0.053908\n",
      "\t validation loss: 3.863492\n",
      "\t validation accuracy: 0.045\n",
      "Epoch 9 of 15 took 448.052s\n",
      "\t training loss: 3.791837\n",
      "\t training accuracy: 0.058942\n",
      "\t validation loss: 3.877253\n",
      "\t validation accuracy: 0.045\n",
      "Epoch 10 of 15 took 447.628s\n",
      "\t training loss: 3.777280\n",
      "\t training accuracy: 0.058451\n",
      "\t validation loss: 3.852491\n",
      "\t validation accuracy: 0.047\n",
      "Epoch 11 of 15 took 448.369s\n",
      "\t training loss: 3.759080\n",
      "\t training accuracy: 0.062994\n",
      "\t validation loss: 3.844906\n",
      "\t validation accuracy: 0.050\n",
      "Epoch 12 of 15 took 449.270s\n",
      "\t training loss: 3.744701\n",
      "\t training accuracy: 0.061229\n",
      "\t validation loss: 3.833532\n",
      "\t validation accuracy: 0.055\n",
      "Epoch 13 of 15 took 449.063s\n",
      "\t training loss: 3.738214\n",
      "\t training accuracy: 0.066525\n",
      "\t validation loss: 3.825577\n",
      "\t validation accuracy: 0.057\n",
      "Epoch 14 of 15 took 449.131s\n",
      "\t training loss: 3.723794\n",
      "\t training accuracy: 0.065107\n",
      "\t validation loss: 3.813839\n",
      "\t validation accuracy: 0.058\n",
      "Epoch 15 of 15 took 448.786s\n",
      "\t training loss: 3.709841\n",
      "\t training accuracy: 0.065222\n",
      "\t validation loss: 3.823229\n",
      "\t validation accuracy: 0.057\n"
     ]
    }
   ],
   "source": [
    "n_epochs = 15\n",
    "data_loader = DataLoader()\n",
    "model = TinyNeuralNetwork().to(device)\n",
    "opt = torch.optim.Adam(model.parameters(), lr = 1e-3, betas=(0.9,0.95), eps=0.99) # YOUR CODE HERE\n",
    "loss_func = nn.NLLLoss() # YOUR CODE HERE\n",
    "\n",
    "tr_loss, tr_acc, val_loss, val_acc = train_model(model, data_loader,\n",
    "                                                 loss_fn=loss_func, opt=opt, n_epochs=n_epochs,\n",
    "                                                 decr_coeff=1, decr_ep_n=5)"
   ],
   "metadata": {
    "collapsed": false,
    "pycharm": {
     "name": "#%%\n"
    }
   }
  },
  {
   "cell_type": "code",
   "execution_count": 39,
   "outputs": [
    {
     "data": {
      "text/plain": "<Figure size 1152x432 with 2 Axes>",
      "image/png": "[encoded data removed]"
     },
     "metadata": {
      "needs_background": "light"
     },
     "output_type": "display_data"
    }
   ],
   "source": [
    "plot_training(tr_loss, tr_acc, val_loss, val_acc)"
   ],
   "metadata": {
    "collapsed": false,
    "pycharm": {
     "name": "#%%\n"
    }
   }
  },
  {
   "cell_type": "code",
   "execution_count": 40,
   "outputs": [
    {
     "name": "stdout",
     "output_type": "stream",
     "text": [
      "test accuracy:\t0.053\n"
     ]
    }
   ],
   "source": [
    "model.eval()\n",
    "test_acc = model_test_score(model, data_loader.test_loader)\n",
    "print('test accuracy:\\t{:.3f}'.format(test_acc))"
   ],
   "metadata": {
    "collapsed": false,
    "pycharm": {
     "name": "#%%\n"
    }
   }
  },
  {
   "cell_type": "code",
   "execution_count": 4,
   "outputs": [],
   "source": [
    "# models.resnext101_32x8d(pretrained = True)"
   ],
   "metadata": {
    "collapsed": false,
    "pycharm": {
     "name": "#%%\n"
    }
   }
  },
  {
   "cell_type": "code",
   "execution_count": 2,
   "outputs": [],
   "source": [
    "class CNN(nn.Module):\n",
    "    def __init__(self, input_shape=3*224*224, num_classes=50, input_channels=3):\n",
    "        super(self.__class__, self).__init__()\n",
    "        self.model = models.resnext101_32x8d(pretrained=True)\n",
    "        self.model.fc = nn.Sequential(\n",
    "            nn.Linear(2048, 975),\n",
    "            nn.BatchNorm1d(975, eps = 1e-3, momentum = 0.1),\n",
    "            nn.ReLU(),\n",
    "\n",
    "            nn.Linear(975, 464),\n",
    "            nn.BatchNorm1d(464, eps = 1e-3, momentum = 0.1),\n",
    "            nn.ReLU(),\n",
    "\n",
    "            nn.Linear(464, 221),\n",
    "            nn.BatchNorm1d(221, eps = 1e-3, momentum = 0.1),\n",
    "            nn.ReLU(),\n",
    "\n",
    "            nn.Linear(221, 105),\n",
    "            nn.BatchNorm1d(105, eps = 1e-3, momentum = 0.1),\n",
    "            nn.ReLU(),\n",
    "\n",
    "            nn.Linear(105, num_classes),\n",
    "            # nn.BatchNorm1d(num_classes, eps = 1e-3, momentum = 0.1),\n",
    "\n",
    "            nn.LogSoftmax(dim = 1)\n",
    "        )\n",
    "\n",
    "    def forward(self, inp):\n",
    "        out = self.model(inp)\n",
    "        return out\n",
    "\n",
    "# print(resnet)\n",
    "\n",
    "# torchsummary.summary(CNN().to(device), (3,224,224))"
   ],
   "metadata": {
    "collapsed": false,
    "pycharm": {
     "name": "#%%\n"
    }
   }
  },
  {
   "cell_type": "code",
   "execution_count": 3,
   "outputs": [],
   "source": [
    "n_epochs = 20\n",
    "data_loader = DataLoader()\n",
    "train_loader, val_loader = data_loader.get_t_v_loaders()"
   ],
   "metadata": {
    "collapsed": false,
    "pycharm": {
     "name": "#%%\n"
    }
   }
  },
  {
   "cell_type": "code",
   "execution_count": 9,
   "outputs": [
    {
     "name": "stdout",
     "output_type": "stream",
     "text": [
      "Epoch 1 of 20 took 556.048s\n",
      "\t training loss: 2.858194\n",
      "\t training accuracy: 0.254917\n",
      "\t validation loss: 2.210118\n",
      "\t validation accuracy: 0.374\n",
      "Epoch 2 of 20 took 557.840s\n",
      "\t training loss: 2.060921\n",
      "\t training accuracy: 0.414910\n",
      "\t validation loss: 1.331393\n",
      "\t validation accuracy: 0.601\n",
      "Epoch 3 of 20 took 558.477s\n",
      "\t training loss: 1.586700\n",
      "\t training accuracy: 0.552248\n",
      "\t validation loss: 1.068507\n",
      "\t validation accuracy: 0.666\n",
      "Epoch 4 of 20 took 558.343s\n",
      "\t training loss: 1.172305\n",
      "\t training accuracy: 0.680804\n",
      "\t validation loss: 0.732720\n",
      "\t validation accuracy: 0.787\n",
      "Epoch 5 of 20 took 558.874s\n",
      "\t training loss: 0.894818\n",
      "\t training accuracy: 0.777836\n",
      "\t validation loss: 0.716582\n",
      "\t validation accuracy: 0.795\n",
      "Epoch 6 of 20 took 558.845s\n",
      "\t training loss: 0.633860\n",
      "\t training accuracy: 0.863102\n",
      "\t validation loss: 0.559600\n",
      "\t validation accuracy: 0.845\n",
      "Epoch 7 of 20 took 558.712s\n",
      "\t training loss: 0.515318\n",
      "\t training accuracy: 0.897172\n",
      "\t validation loss: 0.545256\n",
      "\t validation accuracy: 0.855\n",
      "Epoch 8 of 20 took 560.191s\n",
      "\t training loss: 0.418955\n",
      "\t training accuracy: 0.926414\n",
      "\t validation loss: 0.559901\n",
      "\t validation accuracy: 0.852\n",
      "Epoch 9 of 20 took 560.062s\n",
      "\t training loss: 0.363882\n",
      "\t training accuracy: 0.945030\n",
      "\t validation loss: 0.493810\n",
      "\t validation accuracy: 0.874\n",
      "Epoch 10 of 20 took 560.147s\n",
      "\t training loss: 0.321108\n",
      "\t training accuracy: 0.955919\n",
      "\t validation loss: 0.486728\n",
      "\t validation accuracy: 0.875\n",
      "Epoch 11 of 20 took 559.777s\n",
      "\t training loss: 0.295188\n",
      "\t training accuracy: 0.961451\n",
      "\t validation loss: 0.514886\n",
      "\t validation accuracy: 0.875\n",
      "Epoch 12 of 20 took 560.626s\n",
      "\t training loss: 0.276250\n",
      "\t training accuracy: 0.968124\n",
      "\t validation loss: 0.497435\n",
      "\t validation accuracy: 0.874\n",
      "Epoch 13 of 20 took 559.914s\n",
      "\t training loss: 0.271168\n",
      "\t training accuracy: 0.967071\n",
      "\t validation loss: 0.490917\n",
      "\t validation accuracy: 0.874\n",
      "Epoch 14 of 20 took 560.027s\n",
      "\t training loss: 0.268999\n",
      "\t training accuracy: 0.968388\n",
      "\t validation loss: 0.468175\n",
      "\t validation accuracy: 0.879\n",
      "Epoch 15 of 20 took 560.464s\n",
      "\t training loss: 0.253199\n",
      "\t training accuracy: 0.972339\n",
      "\t validation loss: 0.492609\n",
      "\t validation accuracy: 0.883\n",
      "Epoch 16 of 20 took 562.408s\n",
      "\t training loss: 0.252729\n",
      "\t training accuracy: 0.973217\n",
      "\t validation loss: 0.471346\n",
      "\t validation accuracy: 0.886\n",
      "Epoch 17 of 20 took 562.467s\n",
      "\t training loss: 0.247699\n",
      "\t training accuracy: 0.972778\n",
      "\t validation loss: 0.477007\n",
      "\t validation accuracy: 0.889\n",
      "Epoch 18 of 20 took 561.171s\n",
      "\t training loss: 0.249097\n",
      "\t training accuracy: 0.971637\n",
      "\t validation loss: 0.462374\n",
      "\t validation accuracy: 0.883\n",
      "Epoch 19 of 20 took 561.383s\n",
      "\t training loss: 0.245640\n",
      "\t training accuracy: 0.973393\n",
      "\t validation loss: 0.492124\n",
      "\t validation accuracy: 0.887\n",
      "Epoch 20 of 20 took 561.090s\n",
      "\t training loss: 0.249142\n",
      "\t training accuracy: 0.971637\n",
      "\t validation loss: 0.474831\n",
      "\t validation accuracy: 0.884\n"
     ]
    }
   ],
   "source": [
    "model = CNN().to(device)\n",
    "# opt = torch.optim.Adam(model.parameters(), lr = 1e-3, betas=(0.9,0.95), eps=0.99) # YOUR CODE HERE\n",
    "opt = torch.optim.SGD(model.parameters(), lr = 1e-3, momentum = 0.99)\n",
    "# opt = torch.optim.AdamW(model.parameters(), lr = 1e-3, betas=(0.9, 0.999), eps=1e-08, weight_decay=0.01, amsgrad=False)\n",
    "loss_func = nn.NLLLoss() # YOUR CODE HERE\n",
    "\n",
    "tr_loss, tr_acc, val_loss, val_acc = train_model(model, train_loader, val_loader,\n",
    "                                                 loss_fn=loss_func, opt=opt, n_epochs=n_epochs,\n",
    "                                                 decr_coeff=2, decr_ep_n=2)"
   ],
   "metadata": {
    "collapsed": false,
    "pycharm": {
     "name": "#%%\n"
    }
   }
  },
  {
   "cell_type": "code",
   "execution_count": 10,
   "outputs": [
    {
     "data": {
      "text/plain": "<Figure size 1152x432 with 2 Axes>",
      "image/png": "[encoded data removed]"
     },
     "metadata": {
      "needs_background": "light"
     },
     "output_type": "display_data"
    }
   ],
   "source": [
    "plot_training(tr_loss, tr_acc, val_loss, val_acc)"
   ],
   "metadata": {
    "collapsed": false,
    "pycharm": {
     "name": "#%%\n"
    }
   }
  },
  {
   "cell_type": "code",
   "execution_count": 11,
   "outputs": [
    {
     "name": "stdout",
     "output_type": "stream",
     "text": [
      "test accuracy:\t0.880\n"
     ]
    }
   ],
   "source": [
    "model.eval()\n",
    "test_acc = model_test_score(model, data_loader.test_loader)\n",
    "print('test accuracy:\\t{:.3f}'.format(test_acc))"
   ],
   "metadata": {
    "collapsed": false,
    "pycharm": {
     "name": "#%%\n"
    }
   }
  },
  {
   "cell_type": "code",
   "execution_count": 4,
   "outputs": [
    {
     "name": "stdout",
     "output_type": "stream",
     "text": [
      "Epoch 1 of 20 took 1168.005s\n",
      "\t training loss: 2.289621\n",
      "\t training accuracy: 0.416602\n",
      "\t validation loss: 1.492199\n",
      "\t validation accuracy: 0.585\n",
      "Epoch 2 of 20 took 1175.510s\n",
      "\t training loss: 1.712658\n",
      "\t training accuracy: 0.538347\n",
      "\t validation loss: 1.219850\n",
      "\t validation accuracy: 0.657\n",
      "Epoch 3 of 20 took 1177.784s\n",
      "\t training loss: 1.366610\n",
      "\t training accuracy: 0.628485\n",
      "\t validation loss: 1.090379\n",
      "\t validation accuracy: 0.697\n",
      "Epoch 4 of 20 took 1177.763s\n",
      "\t training loss: 0.818722\n",
      "\t training accuracy: 0.785437\n",
      "\t validation loss: 0.576299\n",
      "\t validation accuracy: 0.837\n",
      "Epoch 5 of 20 took 1177.616s\n",
      "\t training loss: 0.594900\n",
      "\t training accuracy: 0.861272\n",
      "\t validation loss: 0.516789\n",
      "\t validation accuracy: 0.864\n",
      "Epoch 6 of 20 took 1179.421s\n",
      "\t training loss: 0.494883\n",
      "\t training accuracy: 0.888169\n",
      "\t validation loss: 0.470757\n",
      "\t validation accuracy: 0.871\n",
      "Epoch 7 of 20 took 1178.445s\n",
      "\t training loss: 0.395776\n",
      "\t training accuracy: 0.915682\n",
      "\t validation loss: 0.436703\n",
      "\t validation accuracy: 0.879\n",
      "Epoch 8 of 20 took 1179.247s\n",
      "\t training loss: 0.341553\n",
      "\t training accuracy: 0.936178\n",
      "\t validation loss: 0.423344\n",
      "\t validation accuracy: 0.900\n",
      "Epoch 9 of 20 took 1179.372s\n",
      "\t training loss: 0.333584\n",
      "\t training accuracy: 0.935320\n",
      "\t validation loss: 0.430185\n",
      "\t validation accuracy: 0.888\n",
      "Epoch 10 of 20 took 1178.944s\n",
      "\t training loss: 0.329052\n",
      "\t training accuracy: 0.940003\n",
      "\t validation loss: 0.428279\n",
      "\t validation accuracy: 0.906\n",
      "Epoch 11 of 20 took 1177.952s\n",
      "\t training loss: 0.308372\n",
      "\t training accuracy: 0.945971\n",
      "\t validation loss: 0.413213\n",
      "\t validation accuracy: 0.885\n",
      "Epoch 12 of 20 took 1178.528s\n",
      "\t training loss: 0.308293\n",
      "\t training accuracy: 0.944254\n",
      "\t validation loss: 0.442613\n",
      "\t validation accuracy: 0.888\n",
      "Epoch 13 of 20 took 1178.720s\n",
      "\t training loss: 0.306310\n",
      "\t training accuracy: 0.943013\n",
      "\t validation loss: 0.415405\n",
      "\t validation accuracy: 0.893\n",
      "Epoch 14 of 20 took 1176.801s\n",
      "\t training loss: 0.309598\n",
      "\t training accuracy: 0.943438\n",
      "\t validation loss: 0.388042\n",
      "\t validation accuracy: 0.907\n",
      "Epoch 15 of 20 took 1178.188s\n",
      "\t training loss: 0.303648\n",
      "\t training accuracy: 0.946639\n",
      "\t validation loss: 0.465767\n",
      "\t validation accuracy: 0.881\n",
      "Epoch 16 of 20 took 1179.018s\n",
      "\t training loss: 0.315234\n",
      "\t training accuracy: 0.939336\n",
      "\t validation loss: 0.357661\n",
      "\t validation accuracy: 0.918\n",
      "Epoch 17 of 20 took 1178.693s\n",
      "\t training loss: 0.318076\n",
      "\t training accuracy: 0.942233\n",
      "\t validation loss: 0.417021\n",
      "\t validation accuracy: 0.902\n",
      "Epoch 18 of 20 took 1178.481s\n",
      "\t training loss: 0.307761\n",
      "\t training accuracy: 0.946370\n",
      "\t validation loss: 0.424665\n",
      "\t validation accuracy: 0.892\n",
      "Epoch 19 of 20 took 1178.182s\n",
      "\t training loss: 0.314413\n",
      "\t training accuracy: 0.942935\n",
      "\t validation loss: 0.399824\n",
      "\t validation accuracy: 0.906\n",
      "Epoch 20 of 20 took 1177.076s\n",
      "\t training loss: 0.303650\n",
      "\t training accuracy: 0.947576\n",
      "\t validation loss: 0.367861\n",
      "\t validation accuracy: 0.903\n"
     ]
    }
   ],
   "source": [
    "model = CNN().to(device)\n",
    "# opt = torch.optim.Adam(model.parameters(), lr = 1e-3, betas=(0.9,0.95), eps=0.99) # YOUR CODE HERE\n",
    "opt = torch.optim.SGD(model.parameters(), lr = 1e-3, momentum = 0.99)\n",
    "# opt = torch.optim.AdamW(model.parameters(), lr = 1e-3, betas=(0.9, 0.999), eps=1e-08, weight_decay=0.01, amsgrad=False)\n",
    "loss_func = nn.NLLLoss() # YOUR CODE HERE\n",
    "\n",
    "tr_loss, tr_acc, val_loss, val_acc = train_model(model, train_loader, val_loader,\n",
    "                                                 loss_fn=loss_func, opt=opt, n_epochs=n_epochs,\n",
    "                                                 decr_coeff=10, decr_ep_n=4)"
   ],
   "metadata": {
    "collapsed": false,
    "pycharm": {
     "name": "#%%\n"
    }
   }
  },
  {
   "cell_type": "code",
   "execution_count": 5,
   "outputs": [
    {
     "data": {
      "text/plain": "<Figure size 1152x432 with 2 Axes>",
      "image/png": "[encoded data removed]"
     },
     "metadata": {
      "needs_background": "light"
     },
     "output_type": "display_data"
    }
   ],
   "source": [
    "plot_training(tr_loss, tr_acc, val_loss, val_acc)"
   ],
   "metadata": {
    "collapsed": false,
    "pycharm": {
     "name": "#%%\n"
    }
   }
  },
  {
   "cell_type": "code",
   "execution_count": 6,
   "outputs": [
    {
     "name": "stdout",
     "output_type": "stream",
     "text": [
      "test accuracy:\t0.885\n"
     ]
    }
   ],
   "source": [
    "model.eval()\n",
    "test_acc = model_test_score(model, data_loader.test_loader)\n",
    "print('test accuracy:\\t{:.3f}'.format(test_acc))"
   ],
   "metadata": {
    "collapsed": false,
    "pycharm": {
     "name": "#%%\n"
    }
   }
  },
  {
   "cell_type": "code",
   "execution_count": 4,
   "outputs": [
    {
     "name": "stdout",
     "output_type": "stream",
     "text": [
      "Epoch 1 of 20 took 1213.158s\n",
      "\t training loss: 2.840922\n",
      "\t training accuracy: 0.293424\n",
      "\t validation loss: 2.124292\n",
      "\t validation accuracy: 0.417\n",
      "Epoch 2 of 20 took 1214.444s\n",
      "\t training loss: 2.090624\n",
      "\t training accuracy: 0.428928\n",
      "\t validation loss: 1.669301\n",
      "\t validation accuracy: 0.523\n",
      "Epoch 3 of 20 took 1216.637s\n",
      "\t training loss: 1.654774\n",
      "\t training accuracy: 0.536707\n",
      "\t validation loss: 1.284921\n",
      "\t validation accuracy: 0.583\n",
      "Epoch 4 of 20 took 1214.478s\n",
      "\t training loss: 1.366997\n",
      "\t training accuracy: 0.617854\n",
      "\t validation loss: 1.132670\n",
      "\t validation accuracy: 0.650\n",
      "Epoch 5 of 20 took 1212.418s\n",
      "\t training loss: 0.806179\n",
      "\t training accuracy: 0.760231\n",
      "\t validation loss: 0.649066\n",
      "\t validation accuracy: 0.811\n",
      "Epoch 6 of 20 took 1211.749s\n",
      "\t training loss: 0.546873\n",
      "\t training accuracy: 0.838019\n",
      "\t validation loss: 0.577433\n",
      "\t validation accuracy: 0.826\n",
      "Epoch 7 of 20 took 1213.251s\n",
      "\t training loss: 0.425592\n",
      "\t training accuracy: 0.870900\n",
      "\t validation loss: 0.517304\n",
      "\t validation accuracy: 0.850\n",
      "Epoch 8 of 20 took 1215.071s\n",
      "\t training loss: 0.329276\n",
      "\t training accuracy: 0.905420\n",
      "\t validation loss: 0.508530\n",
      "\t validation accuracy: 0.847\n",
      "Epoch 9 of 20 took 1216.121s\n",
      "\t training loss: 0.269723\n",
      "\t training accuracy: 0.921665\n",
      "\t validation loss: 0.482948\n",
      "\t validation accuracy: 0.856\n",
      "Epoch 10 of 20 took 1215.240s\n",
      "\t training loss: 0.213139\n",
      "\t training accuracy: 0.939316\n",
      "\t validation loss: 0.484459\n",
      "\t validation accuracy: 0.857\n",
      "Epoch 11 of 20 took 1217.446s\n",
      "\t training loss: 0.199859\n",
      "\t training accuracy: 0.945876\n",
      "\t validation loss: 0.453157\n",
      "\t validation accuracy: 0.866\n",
      "Epoch 12 of 20 took 1217.470s\n",
      "\t training loss: 0.191097\n",
      "\t training accuracy: 0.948688\n",
      "\t validation loss: 0.456287\n",
      "\t validation accuracy: 0.871\n",
      "Epoch 13 of 20 took 1215.390s\n",
      "\t training loss: 0.178626\n",
      "\t training accuracy: 0.955092\n",
      "\t validation loss: 0.463670\n",
      "\t validation accuracy: 0.864\n",
      "Epoch 14 of 20 took 1216.210s\n",
      "\t training loss: 0.175651\n",
      "\t training accuracy: 0.953843\n",
      "\t validation loss: 0.468718\n",
      "\t validation accuracy: 0.859\n",
      "Epoch 15 of 20 took 1216.368s\n",
      "\t training loss: 0.173564\n",
      "\t training accuracy: 0.955795\n",
      "\t validation loss: 0.461602\n",
      "\t validation accuracy: 0.869\n",
      "Epoch 16 of 20 took 1216.586s\n",
      "\t training loss: 0.169464\n",
      "\t training accuracy: 0.955873\n",
      "\t validation loss: 0.458094\n",
      "\t validation accuracy: 0.874\n",
      "Epoch 17 of 20 took 1216.109s\n",
      "\t training loss: 0.160194\n",
      "\t training accuracy: 0.958685\n",
      "\t validation loss: 0.463240\n",
      "\t validation accuracy: 0.880\n",
      "Epoch 18 of 20 took 1215.437s\n",
      "\t training loss: 0.162420\n",
      "\t training accuracy: 0.959466\n",
      "\t validation loss: 0.452621\n",
      "\t validation accuracy: 0.870\n",
      "Epoch 19 of 20 took 1215.583s\n",
      "\t training loss: 0.179300\n",
      "\t training accuracy: 0.954155\n",
      "\t validation loss: 0.445733\n",
      "\t validation accuracy: 0.877\n",
      "Epoch 20 of 20 took 1216.119s\n",
      "\t training loss: 0.164247\n",
      "\t training accuracy: 0.956654\n",
      "\t validation loss: 0.470473\n",
      "\t validation accuracy: 0.874\n"
     ]
    }
   ],
   "source": [
    "model = CNN().to(device)\n",
    "# opt = torch.optim.Adam(model.parameters(), lr = 1e-3, betas=(0.9,0.95), eps=0.99) # YOUR CODE HERE\n",
    "opt = torch.optim.SGD(model.parameters(), lr = 1e-3, momentum = 0.99)\n",
    "# opt = torch.optim.AdamW(model.parameters(), lr = 0.1, betas=(0.9, 0.999), eps=1e-08, weight_decay=0.01, amsgrad=False)\n",
    "loss_func = nn.NLLLoss() # YOUR CODE HERE\n",
    "\n",
    "tr_loss, tr_acc, val_loss, val_acc = train_model(model, train_loader, val_loader,\n",
    "                                                 loss_fn=loss_func, opt=opt, n_epochs=n_epochs,\n",
    "                                                 decr_coeff=10, decr_ep_n=5)"
   ],
   "metadata": {
    "collapsed": false,
    "pycharm": {
     "name": "#%%\n"
    }
   }
  },
  {
   "cell_type": "code",
   "execution_count": 5,
   "outputs": [
    {
     "data": {
      "text/plain": "<Figure size 1152x432 with 2 Axes>",
      "image/png": "[encoded data removed]"
     },
     "metadata": {
      "needs_background": "light"
     },
     "output_type": "display_data"
    }
   ],
   "source": [
    "plot_training(tr_loss, tr_acc, val_loss, val_acc)"
   ],
   "metadata": {
    "collapsed": false,
    "pycharm": {
     "name": "#%%\n"
    }
   }
  },
  {
   "cell_type": "code",
   "execution_count": 6,
   "outputs": [
    {
     "name": "stdout",
     "output_type": "stream",
     "text": [
      "test accuracy:\t0.831\n"
     ]
    }
   ],
   "source": [
    "model.eval()\n",
    "test_acc = model_test_score(model, data_loader.test_loader)\n",
    "print('test accuracy:\\t{:.3f}'.format(test_acc))"
   ],
   "metadata": {
    "collapsed": false,
    "pycharm": {
     "name": "#%%\n"
    }
   }
  }
 ],
 "metadata": {
  "anaconda-cloud": {},
  "kernelspec": {
   "display_name": "Python 3",
   "language": "python",
   "name": "python3"
  },
  "language_info": {
   "codemirror_mode": {
    "name": "ipython",
    "version": 3
   },
   "file_extension": ".py",
   "mimetype": "text/x-python",
   "name": "python",
   "nbconvert_exporter": "python",
   "pygments_lexer": "ipython3",
   "version": "3.7.7"
  }
 },
 "nbformat": 4,
 "nbformat_minor": 2
}