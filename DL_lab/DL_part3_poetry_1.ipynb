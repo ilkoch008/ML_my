{
 "cells": [
  {
   "cell_type": "markdown",
   "metadata": {
    "colab_type": "text",
    "id": "moRdcThfJ3NX"
   },
   "source": [
    "## Lab 3"
   ]
  },
  {
   "cell_type": "markdown",
   "metadata": {
    "colab_type": "text",
    "id": "ipf8AQCQJ3Na"
   },
   "source": [
    "### Part 3. Poetry generation\n",
    "\n",
    "Let's try to generate some poetry using RNNs. \n",
    "\n",
    "You have several choices here: \n",
    "\n",
    "* The Shakespeare sonnets, file `sonnets.txt` available in the notebook directory.\n",
    "\n",
    "* Роман в стихах \"Евгений Онегин\" Александра Сергеевича Пушкина. В предобработанном виде доступен по [ссылке](https://github.com/attatrol/data_sources/blob/master/onegin.txt).\n",
    "\n",
    "* Some other text source, if it will be approved by the course staff.\n",
    "\n",
    "Text generation can be designed in several steps:\n",
    "    \n",
    "1. Data loading.\n",
    "2. Dictionary generation.\n",
    "3. Data preprocessing.\n",
    "4. Model (neural network) training.\n",
    "5. Text generation (model evaluation).\n"
   ]
  },
  {
   "cell_type": "code",
   "execution_count": 23,
   "metadata": {
    "colab": {},
    "colab_type": "code",
    "id": "B51pX5dPJ3Nb"
   },
   "outputs": [],
   "source": [
    "import string\n",
    "import os\n",
    "import numpy as np\n",
    "import torch, torch.nn as nn\n",
    "import random\n",
    "from torch.autograd import Variable\n",
    "import torch.nn.functional as F\n",
    "device = 'cuda:0' if torch.cuda.is_available() else 'cpu'"
   ]
  },
  {
   "cell_type": "markdown",
   "metadata": {
    "colab_type": "text",
    "id": "qkOfnjOkJ3Ng"
   },
   "source": [
    "### Data loading: Shakespeare"
   ]
  },
  {
   "cell_type": "markdown",
   "metadata": {
    "colab_type": "text",
    "id": "T0Mi0rEmJ3Nh"
   },
   "source": [
    "Shakespeare sonnets are awailable at this [link](http://www.gutenberg.org/ebooks/1041?msg=welcome_stranger). In addition, they are stored in the same directory as this notebook (`sonnetes.txt`). Simple preprocessing is already done for you in the next cell: all technical info is dropped."
   ]
  },
  {
   "cell_type": "code",
   "execution_count": 24,
   "metadata": {
    "colab": {
     "base_uri": "https://localhost:8080/",
     "height": 218
    },
    "colab_type": "code",
    "executionInfo": {
     "elapsed": 4691,
     "status": "ok",
     "timestamp": 1592162657178,
     "user": {
      "displayName": "Анастасия Фокина",
      "photoUrl": "",
      "userId": "10857910223875896215"
     },
     "user_tz": -180
    },
    "id": "pGTg7cFwJ3Nh",
    "outputId": "e913f755-e3b6-48ce-da3e-e8fff3fe18ba"
   },
   "outputs": [
    {
     "name": "stderr",
     "output_type": "stream",
     "text": [
      "\"wget\" ­Ґ пў«пҐвбп ў­гваҐ­­Ґ© Ё«Ё ў­Ґи­Ґ©\n",
      "Є®¬ ­¤®©, ЁбЇ®«­пҐ¬®© Їа®Ја ¬¬®© Ё«Ё Ї ЄҐв­л¬ д ©«®¬.\n"
     ]
    },
    {
     "data": {
      "text/plain": "7088"
     },
     "execution_count": 24,
     "metadata": {},
     "output_type": "execute_result"
    }
   ],
   "source": [
    "if not os.path.exists('data.txt'):\n",
    "    !wget https://raw.githubusercontent.com/AnastasiyaFokina/ML_study_public/master/data.txt\n",
    "\n",
    "with open('onegin.txt', 'r', encoding='utf-8') as iofile:\n",
    "    text = iofile.readlines()\n",
    "    \n",
    "##TEXT_START = 45\n",
    "#TEXT_END = -368\n",
    "#text = text[TEXT_START : TEXT_END]\n",
    "#assert len(text) == 2616\n",
    "len(text)"
   ]
  },
  {
   "cell_type": "markdown",
   "metadata": {
    "colab_type": "text",
    "id": "C9gwq4IoJ3Nl"
   },
   "source": [
    "In opposite to the in-class practice, this time we want to predict complex text. Let's reduce the complexity of the task and lowercase all the symbols.\n",
    "\n",
    "Now variable `text` is a list of strings. Join all the strings into one and lowercase it."
   ]
  },
  {
   "cell_type": "code",
   "execution_count": 25,
   "metadata": {
    "colab": {},
    "colab_type": "code",
    "id": "-68xzpNhJ3Nm"
   },
   "outputs": [],
   "source": [
    "# Join all the strings into one and lowercase it\n",
    "# Put result into variable text.\n",
    "\n",
    "# Your great code here\n",
    "text = ''.join(text).lower()\n",
    "\n",
    "#assert len(text) == 100225, 'Are you sure you have concatenated all the strings?'\n",
    "##assert not any([x in set(text) for x in string.ascii_uppercase]), 'Uppercase letters are present'\n",
    "#print('OK!')"
   ]
  },
  {
   "cell_type": "markdown",
   "metadata": {
    "colab_type": "text",
    "id": "eodka8ctJ3Np"
   },
   "source": [
    "### Data loading: \"Евгений Онегин\"\n"
   ]
  },
  {
   "cell_type": "code",
   "execution_count": 26,
   "metadata": {
    "colab": {
     "base_uri": "https://localhost:8080/",
     "height": 202
    },
    "colab_type": "code",
    "executionInfo": {
     "elapsed": 3668,
     "status": "ok",
     "timestamp": 1590407425005,
     "user": {
      "displayName": "Анастасия Фокина",
      "photoUrl": "",
      "userId": "10857910223875896215"
     },
     "user_tz": -180
    },
    "id": "6qWkFn3zJ3Nr",
    "outputId": "a5b1506d-bbd8-4b22-c7ff-ddf38f73d4e2"
   },
   "outputs": [
    {
     "name": "stderr",
     "output_type": "stream",
     "text": [
      "\"wget\" ­Ґ пў«пҐвбп ў­гваҐ­­Ґ© Ё«Ё ў­Ґи­Ґ©\n",
      "Є®¬ ­¤®©, ЁбЇ®«­пҐ¬®© Їа®Ја ¬¬®© Ё«Ё Ї ЄҐв­л¬ д ©«®¬.\n"
     ]
    }
   ],
   "source": [
    "!wget https://raw.githubusercontent.com/attatrol/data_sources/master/onegin.txt\n",
    "    \n",
    "with open('onegin.txt', 'r', encoding='utf-8') as iofile:\n",
    "    text = iofile.readlines(\n",
    "        \n",
    "    )\n",
    "    \n",
    "text = [x.replace('\\t\\t', '') for x in text]"
   ]
  },
  {
   "cell_type": "markdown",
   "metadata": {
    "colab_type": "text",
    "id": "lkHYzzqcJ3Nx"
   },
   "source": [
    "In opposite to the in-class practice, this time we want to predict complex text. Let's reduce the complexity of the task and lowercase all the symbols.\n",
    "\n",
    "Now variable `text` is a list of strings. Join all the strings into one and lowercase it."
   ]
  },
  {
   "cell_type": "code",
   "execution_count": 27,
   "metadata": {
    "colab": {},
    "colab_type": "code",
    "id": "WJkzjdkAJ3Ny"
   },
   "outputs": [],
   "source": [
    "# Join all the strings into one and lowercase it\n",
    "# Put result into variable text.\n",
    "\n",
    "# Your great code here\n",
    "text = ''.join(text).lower()"
   ]
  },
  {
   "cell_type": "markdown",
   "metadata": {
    "colab_type": "text",
    "id": "ldF8MHCWJ3N1"
   },
   "source": [
    "Put all the characters, that you've seen in the text, into variable `tokens`."
   ]
  },
  {
   "cell_type": "code",
   "execution_count": 28,
   "metadata": {
    "colab": {},
    "colab_type": "code",
    "id": "fSgpn3tkJ3N2"
   },
   "outputs": [],
   "source": [
    "tokens = sorted(set(text))"
   ]
  },
  {
   "cell_type": "code",
   "execution_count": 29,
   "metadata": {
    "colab": {
     "base_uri": "https://localhost:8080/",
     "height": 34
    },
    "colab_type": "code",
    "executionInfo": {
     "elapsed": 508,
     "status": "ok",
     "timestamp": 1592162670356,
     "user": {
      "displayName": "Анастасия Фокина",
      "photoUrl": "",
      "userId": "10857910223875896215"
     },
     "user_tz": -180
    },
    "id": "fAFLJixkLYDO",
    "outputId": "a5d40496-3fa3-4963-ebf0-c9deb8c92446"
   },
   "outputs": [
    {
     "data": {
      "text/plain": "83"
     },
     "execution_count": 29,
     "metadata": {},
     "output_type": "execute_result"
    }
   ],
   "source": [
    "len(tokens)"
   ]
  },
  {
   "cell_type": "code",
   "execution_count": 30,
   "metadata": {
    "colab": {
     "base_uri": "https://localhost:8080/",
     "height": 1000
    },
    "colab_type": "code",
    "executionInfo": {
     "elapsed": 1024,
     "status": "ok",
     "timestamp": 1592162702974,
     "user": {
      "displayName": "Анастасия Фокина",
      "photoUrl": "",
      "userId": "10857910223875896215"
     },
     "user_tz": -180
    },
    "id": "7YeIedqGSp_O",
    "outputId": "9f086ed4-77ac-4638-daaa-556cc753f132"
   },
   "outputs": [
    {
     "data": {
      "text/plain": "['\\n',\n ' ',\n '!',\n '(',\n ')',\n ',',\n '-',\n '.',\n '5',\n '7',\n '8',\n '9',\n ':',\n ';',\n '?',\n '[',\n ']',\n '^',\n 'a',\n 'b',\n 'c',\n 'd',\n 'e',\n 'f',\n 'g',\n 'h',\n 'i',\n 'k',\n 'l',\n 'm',\n 'n',\n 'o',\n 'p',\n 'q',\n 'r',\n 's',\n 't',\n 'u',\n 'v',\n 'w',\n 'x',\n 'y',\n 'z',\n '«',\n '»',\n 'а',\n 'б',\n 'в',\n 'г',\n 'д',\n 'е',\n 'ж',\n 'з',\n 'и',\n 'й',\n 'к',\n 'л',\n 'м',\n 'н',\n 'о',\n 'п',\n 'р',\n 'с',\n 'т',\n 'у',\n 'ф',\n 'х',\n 'ц',\n 'ч',\n 'ш',\n 'щ',\n 'ъ',\n 'ы',\n 'ь',\n 'э',\n 'ю',\n 'я',\n 'ё',\n '–',\n '—',\n '’',\n '…',\n '€']"
     },
     "execution_count": 30,
     "metadata": {},
     "output_type": "execute_result"
    }
   ],
   "source": [
    "tokens"
   ]
  },
  {
   "cell_type": "markdown",
   "metadata": {
    "colab_type": "text",
    "id": "uq_3IOjdJ3N5"
   },
   "source": [
    "Create dictionary `token_to_idx = {<char>: <index>}` and dictionary `idx_to_token = {<index>: <char>}`"
   ]
  },
  {
   "cell_type": "code",
   "execution_count": 31,
   "metadata": {
    "colab": {},
    "colab_type": "code",
    "id": "jwykL1MEJ3N6"
   },
   "outputs": [],
   "source": [
    "# dict <index>:<char>\n",
    "# Your great code here\n",
    "idx_to_token = dict(zip(range(len(tokens)), tokens))\n",
    "# dict <char>:<index>\n",
    "# Your great code here\n",
    "token_to_idx = dict(zip(tokens, range(len(tokens))))"
   ]
  },
  {
   "cell_type": "markdown",
   "metadata": {
    "colab_type": "text",
    "id": "CxnvzkfIJ3N_"
   },
   "source": [
    "*Comment: in this task we have only 38 different tokens, so let's use one-hot encoding.*"
   ]
  },
  {
   "cell_type": "markdown",
   "metadata": {
    "colab_type": "text",
    "id": "MhYxHzCLJ3OA"
   },
   "source": [
    "### Building the model"
   ]
  },
  {
   "cell_type": "markdown",
   "metadata": {
    "colab_type": "text",
    "id": "STVHqkShJ3OA"
   },
   "source": [
    "Now we want to build and train recurrent neural net which would be able to something similar to Shakespeare's poetry.\n",
    "\n",
    "Let's use vanilla RNN, similar to the one created during the lesson."
   ]
  },
  {
   "cell_type": "code",
   "execution_count": 32,
   "metadata": {
    "colab": {},
    "colab_type": "code",
    "id": "8Diwfbtlq-zP"
   },
   "outputs": [],
   "source": [
    "class CharRNNLoop(nn.Module):\n",
    "    def __init__(self, num_tokens, emb_size=90, rnn_num_units=64):\n",
    "        super(self.__class__, self).__init__()\n",
    "        self.num_units = rnn_num_units\n",
    "        self.rnn = nn.RNN(emb_size, rnn_num_units, batch_first=True)\n",
    "        self.fc = nn.Linear(rnn_num_units, num_tokens)\n",
    "        \n",
    "    def forward(self, x, hidden):\n",
    "        out, hidden = self.rnn(x, hidden)\n",
    "        out = out.contiguous().view(-1, self.num_units)\n",
    "        out = self.fc(out)\n",
    "        return out, hidden\n",
    "    \n",
    "    def initial_state(self, batch_size):\n",
    "        \"\"\" return rnn state before it processes first input (aka h0) \"\"\"\n",
    "        return Variable(torch.zeros(1, batch_size, self.num_units)).to(device)"
   ]
  },
  {
   "cell_type": "code",
   "execution_count": 33,
   "metadata": {
    "colab": {},
    "colab_type": "code",
    "id": "8gUJwQi_rqCK"
   },
   "outputs": [],
   "source": [
    "def get_batches(arr, batch_size, seq_length):\n",
    "    \n",
    "    batch_size_total = batch_size * seq_length\n",
    "    # total number of batches we can make\n",
    "    n_batches = len(arr)//batch_size_total\n",
    "    \n",
    "    # Keep only enough characters to make full batches\n",
    "    arr = arr[:n_batches * batch_size_total]\n",
    "    # Reshape into batch_size rows\n",
    "    arr = arr.reshape((batch_size, -1))\n",
    "    \n",
    "    # iterate through the array, one sequence at a time\n",
    "    for n in range(0, arr.shape[1], seq_length):\n",
    "        # The features\n",
    "        x = arr[:, n:n+seq_length]\n",
    "        # The targets, shifted by one\n",
    "        y = np.zeros_like(x)\n",
    "        try:\n",
    "            y[:, :-1], y[:, -1] = x[:, 1:], arr[:, n+seq_length]\n",
    "        except IndexError:\n",
    "            y[:, :-1], y[:, -1] = x[:, 1:], arr[:, 0]\n",
    "        yield x, y"
   ]
  },
  {
   "cell_type": "code",
   "execution_count": 34,
   "metadata": {
    "colab": {},
    "colab_type": "code",
    "id": "2FChznzmBHtW"
   },
   "outputs": [],
   "source": [
    "def one_hot_encode(arr, n_labels):   \n",
    "    # Initialize the the encoded array\n",
    "    one_hot = np.zeros((np.multiply(*arr.shape), n_labels), dtype=np.float32)\n",
    "    # Fill the appropriate elements with ones\n",
    "    one_hot[np.arange(one_hot.shape[0]), arr.flatten()] = 1.\n",
    "    # Finally reshape it to get back to the original array\n",
    "    one_hot = one_hot.reshape((*arr.shape, n_labels))\n",
    "    return one_hot"
   ]
  },
  {
   "cell_type": "code",
   "execution_count": 35,
   "metadata": {
    "colab": {},
    "colab_type": "code",
    "id": "k1Aw37vRrwyN"
   },
   "outputs": [],
   "source": [
    "encoded = np.array([token_to_idx[ch] for ch in text])"
   ]
  },
  {
   "cell_type": "code",
   "execution_count": 36,
   "metadata": {
    "colab": {},
    "colab_type": "code",
    "id": "RIlRxDnbr0yz"
   },
   "outputs": [],
   "source": [
    "def train(net, data, epochs=10, batch_size=10, seq_length=50, lr=0.001, clip=5, \n",
    "          temperature=0.2, lstm=False):\n",
    "    \n",
    "    net.train()\n",
    "    \n",
    "    opt = torch.optim.Adam(net.parameters(), lr=lr)\n",
    "    criterion = nn.CrossEntropyLoss()\n",
    "    \n",
    "    val_idx = int(len(data)*(0.9))\n",
    "    data, val_data = data[:val_idx], data[val_idx:]\n",
    "    \n",
    "    counter = 0\n",
    "    n_chars = len(tokens)\n",
    "    for e in range(epochs):\n",
    "        h = net.initial_state(batch_size)\n",
    "        for x, y in get_batches(data, batch_size, seq_length):\n",
    "            counter += 1\n",
    "            x = one_hot_encode(x, n_chars)\n",
    "            inputs, targets = torch.from_numpy(x), torch.from_numpy(y)\n",
    "            inputs, targets = inputs.to(device), targets.to(device)\n",
    "            net.zero_grad()\n",
    "            \n",
    "            if lstm:\n",
    "                h = tuple([each.data for each in h])\n",
    "            else:\n",
    "                h = h.detach()\n",
    "                \n",
    "            output, h = net(inputs, h)\n",
    "            loss = criterion(output, targets.view(batch_size*seq_length).long())\n",
    "            loss.backward()\n",
    "            \n",
    "            nn.utils.clip_grad_norm_(net.parameters(), clip)\n",
    "            opt.step()\n",
    "        \n",
    "            if counter % 100 == 0:\n",
    "                # Get validation loss\n",
    "                val_h = net.initial_state(batch_size)\n",
    "                val_losses = []\n",
    "                net.eval()\n",
    "                for x, y in get_batches(val_data, batch_size, seq_length):\n",
    "                    # One-hot encode our data and make them Torch tensors\n",
    "                    x = one_hot_encode(x, n_chars)\n",
    "                    x, y = torch.from_numpy(x), torch.from_numpy(y)\n",
    "                    if lstm:\n",
    "                        val_h = tuple([each.data for each in val_h])\n",
    "                    else:\n",
    "                        val_h = val_h.detach()\n",
    "                    \n",
    "                    inputs, targets = x, y\n",
    "                    inputs, targets = inputs.to(device), targets.to(device)\n",
    "\n",
    "                    output, val_h = net(inputs, val_h)\n",
    "                    val_loss = criterion(output, targets.view(batch_size*seq_length).long())\n",
    "                \n",
    "                    val_losses.append(val_loss.item())\n",
    "                \n",
    "                net.train() # reset to train mode after iterationg through validation data\n",
    "                \n",
    "                print(\"Epoch: {}/{}...\".format(e+1, epochs),\n",
    "                      \"Step: {}...\".format(counter),\n",
    "                      \"Loss: {:.4f}...\".format(loss.item()),\n",
    "                      \"Val Loss: {:.4f}\".format(np.mean(val_losses)))\n",
    "                train_loss.append(loss.item())\n",
    "                test_loss.append(np.mean(val_losses))"
   ]
  },
  {
   "cell_type": "code",
   "execution_count": 37,
   "metadata": {
    "colab": {},
    "colab_type": "code",
    "id": "q8-lWn6kr4UU"
   },
   "outputs": [],
   "source": [
    "def predict(net, char, h=None, temperature=0.2, lstm=False):\n",
    "        x = np.array([[token_to_idx[char]]])\n",
    "        x = one_hot_encode(x, len(tokens))\n",
    "        inputs = torch.from_numpy(x).to(device)\n",
    "        \n",
    "        if lstm:\n",
    "            h = tuple([each.data for each in h])\n",
    "        else:\n",
    "            h = h.detach()\n",
    "            \n",
    "        out, h = net(inputs, h)\n",
    "        \n",
    "        p = F.softmax(out/temperature, dim=1).data\n",
    "        p = p.cpu().numpy().squeeze()\n",
    "        char = np.random.choice(len(tokens), p=p/p.sum())\n",
    "        return idx_to_token[char], h\n",
    "\n",
    "def sample(net, size, prime='the', temperature=0.2, lstm=False):\n",
    "        \n",
    "    net.to(device)\n",
    "    net.eval()\n",
    "    \n",
    "    # First off, run through the prime characters\n",
    "    chars = [ch for ch in prime]\n",
    "    h = net.initial_state(1)\n",
    "    for ch in prime:\n",
    "        char, h = predict(net, ch, h, temperature, lstm)\n",
    "\n",
    "    chars.append(char)\n",
    "    \n",
    "    for ii in range(size):\n",
    "        char, h = predict(net, chars[-1], h, temperature, lstm)\n",
    "        chars.append(char)\n",
    "\n",
    "    return ''.join(chars)"
   ]
  },
  {
   "cell_type": "code",
   "execution_count": 38,
   "metadata": {
    "colab": {
     "base_uri": "https://localhost:8080/",
     "height": 487
    },
    "colab_type": "code",
    "executionInfo": {
     "elapsed": 346024,
     "status": "ok",
     "timestamp": 1592163067547,
     "user": {
      "displayName": "Анастасия Фокина",
      "photoUrl": "",
      "userId": "10857910223875896215"
     },
     "user_tz": -180
    },
    "id": "37aCYVxpsGS_",
    "outputId": "e304eb5e-f0a7-4b3a-de48-8413dde027f8"
   },
   "outputs": [
    {
     "name": "stdout",
     "output_type": "stream",
     "text": [
      "Epoch: 9/200... Step: 100... Loss: 3.1961... Val Loss: 3.2345\n",
      "Epoch: 17/200... Step: 200... Loss: 2.7425... Val Loss: 2.8062\n",
      "Epoch: 25/200... Step: 300... Loss: 2.5690... Val Loss: 2.6087\n",
      "Epoch: 34/200... Step: 400... Loss: 2.4950... Val Loss: 2.5220\n",
      "Epoch: 42/200... Step: 500... Loss: 2.3841... Val Loss: 2.4716\n",
      "Epoch: 50/200... Step: 600... Loss: 2.3438... Val Loss: 2.4043\n",
      "Epoch: 59/200... Step: 700... Loss: 2.2808... Val Loss: 2.3786\n",
      "Epoch: 67/200... Step: 800... Loss: 2.1912... Val Loss: 2.3437\n",
      "Epoch: 75/200... Step: 900... Loss: 2.2142... Val Loss: 2.3242\n",
      "Epoch: 84/200... Step: 1000... Loss: 2.1642... Val Loss: 2.2969\n",
      "Epoch: 92/200... Step: 1100... Loss: 2.0673... Val Loss: 2.2798\n",
      "Epoch: 100/200... Step: 1200... Loss: 2.1076... Val Loss: 2.2641\n",
      "Epoch: 109/200... Step: 1300... Loss: 2.0428... Val Loss: 2.2554\n",
      "Epoch: 117/200... Step: 1400... Loss: 1.9545... Val Loss: 2.2544\n",
      "Epoch: 125/200... Step: 1500... Loss: 1.9961... Val Loss: 2.2464\n",
      "Epoch: 134/200... Step: 1600... Loss: 1.9250... Val Loss: 2.2522\n",
      "Epoch: 142/200... Step: 1700... Loss: 1.8597... Val Loss: 2.2701\n",
      "Epoch: 150/200... Step: 1800... Loss: 1.9071... Val Loss: 2.2642\n",
      "Epoch: 159/200... Step: 1900... Loss: 1.8261... Val Loss: 2.2807\n",
      "Epoch: 167/200... Step: 2000... Loss: 1.7642... Val Loss: 2.3070\n",
      "Epoch: 175/200... Step: 2100... Loss: 1.8139... Val Loss: 2.3162\n",
      "Epoch: 184/200... Step: 2200... Loss: 1.7404... Val Loss: 2.3423\n",
      "Epoch: 192/200... Step: 2300... Loss: 1.6891... Val Loss: 2.3734\n",
      "Epoch: 200/200... Step: 2400... Loss: 1.7611... Val Loss: 2.3703\n"
     ]
    }
   ],
   "source": [
    "train_loss, test_loss = [], []\n",
    "net = CharRNNLoop(len(tokens), rnn_num_units=256, emb_size=83).to(device)\n",
    "train(net, encoded, epochs=200, batch_size=100, seq_length=100)"
   ]
  },
  {
   "cell_type": "code",
   "execution_count": 39,
   "metadata": {
    "colab": {},
    "colab_type": "code",
    "id": "2q958RRiwQX8"
   },
   "outputs": [],
   "source": [
    "from matplotlib import pyplot as plt\n",
    "def plot_train_process(train_loss, test_loss):\n",
    "  fig, axes = plt.subplots(1, 1,figsize=(15,5))\n",
    "\n",
    "  axes.set_title(\"Loss\")\n",
    "  axes.plot(train_loss, label='train')\n",
    "  axes.plot(test_loss, label='test')\n",
    "  axes.legend()"
   ]
  },
  {
   "cell_type": "code",
   "execution_count": 40,
   "metadata": {
    "colab": {
     "base_uri": "https://localhost:8080/",
     "height": 336
    },
    "colab_type": "code",
    "executionInfo": {
     "elapsed": 1141,
     "status": "ok",
     "timestamp": 1592163121191,
     "user": {
      "displayName": "Анастасия Фокина",
      "photoUrl": "",
      "userId": "10857910223875896215"
     },
     "user_tz": -180
    },
    "id": "qBuFcX1yxmSh",
    "outputId": "baf0c129-9d2a-45e1-8414-bace909b7efe"
   },
   "outputs": [
    {
     "data": {
      "text/plain": "<Figure size 1080x360 with 1 Axes>",
      "image/png": "[encoded data removed]"
     },
     "metadata": {
      "needs_background": "light"
     },
     "output_type": "display_data"
    }
   ],
   "source": [
    "plot_train_process(train_loss, test_loss)"
   ]
  },
  {
   "cell_type": "code",
   "execution_count": 41,
   "metadata": {
    "colab": {},
    "colab_type": "code",
    "id": "IjBEBNlYJ3OR",
    "outputId": "05a32593-c89e-4ed4-c735-a2e471f72a4a"
   },
   "outputs": [],
   "source": [
    "# An example of generated text.\n",
    "# print(generate_text(length=500, temperature=0.2))"
   ]
  },
  {
   "cell_type": "code",
   "execution_count": 42,
   "metadata": {
    "colab": {
     "base_uri": "https://localhost:8080/",
     "height": 104
    },
    "colab_type": "code",
    "executionInfo": {
     "elapsed": 3171,
     "status": "ok",
     "timestamp": 1592163127892,
     "user": {
      "displayName": "Анастасия Фокина",
      "photoUrl": "",
      "userId": "10857910223875896215"
     },
     "user_tz": -180
    },
    "id": "pS22xjE60gUz",
    "outputId": "e4bde5c2-c14e-4375-ca0a-f1eff80dccce"
   },
   "outputs": [
    {
     "name": "stdout",
     "output_type": "stream",
     "text": [
      "я, старина\n",
      "и мог деветь на страшный дель\n",
      "на стол не насленный подой\n",
      "не мне скучал и подарить,\n",
      "серей потом потом небен.\n",
      "\n",
      "\n",
      "\n",
      "xx\n",
      "\n",
      "коть, поэти в гостиной коне,\n",
      "посто ле сторо не стеле\n",
      "и все проводно постали\n",
      "и мог де не заменали\n",
      "но полно, не страстих проводит,\n",
      "не старной не стани молодой,\n",
      "слова после на столомой\n",
      "тетел она после севсем\n",
      "и старосеть де замледной\n",
      "старина светские польмо\n",
      "и вол подушить его нашел\n",
      "не воста в горе не замета,\n",
      "в сем сторо своей сонечно,\n",
      "так небограз окомой.\n",
      "татьяна с ней неж и там,\n",
      "кладной наслетною слеза\n",
      "весно уволкает собраний\n",
      "своих соловой полной вест,\n",
      "и воспостила сольстали сольно,\n",
      "не подушный сол закорет.\n",
      "\n",
      "\n",
      "\n",
      "xx\n",
      "\n",
      "но вость онегин полегом,\n",
      "он глубино слез постала\n",
      "и следо бладостивить —\n",
      "вот предках он стан он перед,\n",
      "приледно страстит и постел\n",
      "не стали сердце полем\n",
      "не вос даше сердце грусти\n",
      "она друженный потруком\n",
      "седин прединевных доманной\n",
      "под небоветь он уменал,\n",
      "и всё ревному по вдруг,\n",
      "он простовет не стари стали\n",
      "\n",
      "\n",
      "\n",
      "xii\n",
      "\n",
      "как на послешной сердце венной\n",
      "они сердца, по вос его.\n",
      "\n",
      "\n",
      "\n",
      "xxviii\n",
      "\n",
      "когда бы насть на вас оне\n",
      "дружать меня не вадала\n",
      "по все провольно постовет\n",
      "о пото лется молодой,\n",
      "во ской преданала дома\n",
      "но воску устали оне сменит,\n",
      "и слеша с педь не онегин,\n",
      "всё то же тревижала сторой,\n",
      "не столо наслаждали столо,\n",
      "как зам от сем с ресседа,\n",
      "не обнаво столо она\n",
      "бетел онанит слез провол,\n",
      "и следо бланостих не готов,\n",
      "не постолете волод он.\n",
      "и послетним солец мол дово\n",
      "и в семей полос небостенить,\n",
      "двороманный мол от раздостом\n",
      "в сем сердце весто постали\n",
      "поре, доверно политал\n",
      "старал оникая серденный,\n",
      "и душа толные востей\n",
      "и сторо слаза всё бесела.\n",
      "тет неволянье не отерда,\n",
      "подалон слаша своей,\n",
      "ни то простовел он оглад,\n",
      "столь на сердцем как не может\n",
      "и сердце выше нет небраженье\n",
      "там томно стало постали\n",
      "он проставельным с отномаеть,\n",
      "поро любовь не заменал,\n",
      "по мне ведет и постоли\n",
      "он пелет быльном скоре семя,\n",
      "стариные старинье страм\n",
      "она межет ображен она\n",
      "и старом на стол не настел,\n",
      "там кажать он устались вос,\n",
      "и так не воску сем страшал,\n",
      "поданно постали долоны,\n",
      "так не странный как небоей,\n",
      "и веспод не воска город,\n",
      "на стол не постене постали\n",
      "пред ним гоский пол обнях\n",
      "старушка моло покранной\n",
      "онегин полестила дово\n",
      "ме там от расстали и странный,\n",
      "и всё так не постенела своей\n",
      "и печаль, полно дени другом\n",
      "с они сердце поливет\n",
      "седь неж на подного сведа\n",
      "не может быть, она не слуша,\n",
      "и всё беретые сталость\n",
      "она с подного почаланьем\n",
      "вости с нем она довольно,\n",
      "не постолены полов нежной\n",
      "с безверен пелет можда свет\n",
      "и кам тетель одет в половодет,\n",
      "не старной не подушель наслет,\n",
      "и всё рашла любот извосем\n",
      "и тем послетним она скрость,\n",
      "поре, деварные столом\n",
      "он песты провадельный страные\n",
      "сердца они сердце поданиль\n",
      "одно в сем сурден онегин,\n",
      "всё то же тревижала страманьем\n",
      "не пот полон еще него деть,\n",
      "его не страмной полкому,\n",
      "не страм на стол поэта\n",
      "послешит серь отвадали,\n",
      "не нам от не заменались,\n",
      "и восковелся мой деле\n",
      "наслетника всех не замать,\n",
      "и в сем страшли сем с постене\n",
      "и с нем онегин полет\n",
      "и печальный полной вестеть,\n",
      "и слад невенный покровно.\n",
      "татьяна в том не совесть,\n",
      "и следо блажен свои своей,\n",
      "в семестали слез из истолитал\n",
      "она с подушной и слаза\n",
      "бледный проз не наше привал\n",
      "и слав полной на стел поэт\n",
      "ужень простотелся он селей\n",
      "кутский ветел и свет провод,\n",
      "не мой полог умень моловой,\n",
      "не стари заблется слазы\n",
      "берет был сердце головал,\n",
      "поденный краствицели она,\n",
      "и стрости моей судина\n",
      "и вот подали в ней невенный\n",
      "сторо в слаза в состахил свото\n",
      "им не отнах устарен он\n",
      "ум рослешенные посленной\n",
      "как такой онались в сонец.\n",
      "\n",
      "\n",
      "\n",
      "xxxii\n",
      "\n",
      "но всё то же трев жу том,\n",
      "готов о всё бел ведокала,\n",
      "страшал сердце уми порой\n",
      "сторет в сердцем мое деле\n",
      "не нажил свати, не поком\n",
      "нескала слез и нет серденный,\n",
      "и дет оне на столом,\n",
      "и сердце я на стери старон\n",
      "оне не заметенный камины\n",
      "в теперь после ни стели дово\n",
      "месленья своей слава так,\n",
      "чуть может быть от порогом\n",
      "и слав сирей сердце своей души\n",
      "\n",
      "зак мелять он песто в серденной,\n",
      "и долго предскавал сторит,\n",
      "и саном слава сердца свое\n",
      "\n",
      "и кала отецкае волода;\n",
      "она с ней немустенье провод,\n",
      "и в том на порто поселего —\n",
      "старой толжет он порогод,\n",
      "стари старине стери стало,\n",
      "как был он госте поровал,\n",
      "и в сердце вест он постолены,\n",
      "в сем страшно, не постолита\n",
      "мого на страшной головой,\n",
      "не столнее не на столом,\n",
      "и сам отегин она скоре,\n",
      "не все дружен моло взор,\n",
      "в пестало сведа не принод\n",
      "онегин с отался дна совельном,\n",
      "не всё белеть не подашел\n",
      "он пере преволить моговый,\n",
      "иль он полен бедет простой\n",
      "просто в своей за молодит,\n",
      "не страмать накоженья,\n",
      "по все грудь и в седих пода,\n",
      "не мой простой полов забасть\n",
      "иль мож онегин простах сторо,\n",
      "с гороскизною слез провот,\n",
      "пошла согда с посторе свете\n",
      "и слеве полной не столом,\n",
      "и славо слез из лено мол\n",
      "покомусто не в поло радал\n",
      "и в сем раздости и пода\n",
      "их постоленых прозволодной\n",
      "подобра слаг емгали сторов,\n",
      "семей мой день е вет добрам,\n",
      "поред перед сердце скорой\n",
      "и простительных сторов,\n",
      "не подружен стас не васнетье,\n",
      "де жалоских мне постале\n",
      "он простетели на с нем.\n",
      "\n",
      "\n",
      "\n",
      "xxii\n",
      "\n",
      "так не городной мой дете\n",
      "теменье пред невой пере,\n",
      "старасковновного постали\n",
      "и следо всех старене\n",
      "с ней сем развости летать мел\n",
      "до ждет их достиный \n"
     ]
    }
   ],
   "source": [
    "print(sample(net, 5000, prime='я'))"
   ]
  },
  {
   "cell_type": "markdown",
   "metadata": {
    "colab_type": "text",
    "id": "Z8frNEBmJ3OV"
   },
   "source": [
    "### More poetic model\n",
    "\n",
    "Let's use LSTM instead of vanilla RNN and compare the results."
   ]
  },
  {
   "cell_type": "markdown",
   "metadata": {
    "colab_type": "text",
    "id": "LRrdJFGgJ3OW"
   },
   "source": [
    "Plot the loss function of the number of epochs. Does the final loss become better?"
   ]
  },
  {
   "cell_type": "code",
   "execution_count": 43,
   "metadata": {
    "colab": {},
    "colab_type": "code",
    "id": "CWkurSUGJ3OW"
   },
   "outputs": [],
   "source": [
    "# Your beautiful code here\n",
    "class CharLSTMLoop(nn.Module):\n",
    "    def __init__(self, num_tokens, emb_size=90, rnn_num_units=64):\n",
    "        super(self.__class__, self).__init__()\n",
    "        self.num_units = rnn_num_units\n",
    "        self.rnn = nn.LSTM(emb_size, rnn_num_units, batch_first=True, num_layers=2, dropout=0.5)\n",
    "        self.fc = nn.Linear(rnn_num_units, num_tokens)\n",
    "        \n",
    "    def forward(self, x, hidden):\n",
    "        out, hidden = self.rnn(x, hidden)\n",
    "        out = out.contiguous().view(-1, self.num_units)\n",
    "        out = self.fc(out)\n",
    "        return out, hidden\n",
    "    \n",
    "    def initial_state(self, batch_size):\n",
    "        \"\"\" return rnn state before it processes first input (aka h0) \"\"\"\n",
    "        return (Variable(torch.zeros(2, batch_size, self.num_units)).to(device),\n",
    "                Variable(torch.zeros(2, batch_size, self.num_units)).to(device))"
   ]
  },
  {
   "cell_type": "code",
   "execution_count": 44,
   "metadata": {
    "colab": {
     "base_uri": "https://localhost:8080/",
     "height": 252
    },
    "colab_type": "code",
    "executionInfo": {
     "elapsed": 4304853,
     "status": "ok",
     "timestamp": 1592167515862,
     "user": {
      "displayName": "Анастасия Фокина",
      "photoUrl": "",
      "userId": "10857910223875896215"
     },
     "user_tz": -180
    },
    "id": "fIhfQ1Zy1KoI",
    "outputId": "20d7e08e-47d2-46cf-daa7-61310b8356a1"
   },
   "outputs": [
    {
     "name": "stdout",
     "output_type": "stream",
     "text": [
      "Epoch: 9/100... Step: 100... Loss: 3.2126... Val Loss: 3.2534\n",
      "Epoch: 17/100... Step: 200... Loss: 2.5631... Val Loss: 2.6474\n",
      "Epoch: 25/100... Step: 300... Loss: 2.4345... Val Loss: 2.4749\n",
      "Epoch: 34/100... Step: 400... Loss: 2.2504... Val Loss: 2.3283\n",
      "Epoch: 42/100... Step: 500... Loss: 2.1092... Val Loss: 2.2318\n",
      "Epoch: 50/100... Step: 600... Loss: 2.0545... Val Loss: 2.1592\n",
      "Epoch: 59/100... Step: 700... Loss: 1.9097... Val Loss: 2.1153\n",
      "Epoch: 67/100... Step: 800... Loss: 1.7689... Val Loss: 2.1096\n",
      "Epoch: 75/100... Step: 900... Loss: 1.7438... Val Loss: 2.1071\n",
      "Epoch: 84/100... Step: 1000... Loss: 1.5575... Val Loss: 2.1595\n",
      "Epoch: 92/100... Step: 1100... Loss: 1.3966... Val Loss: 2.2192\n",
      "Epoch: 100/100... Step: 1200... Loss: 1.3834... Val Loss: 2.2835\n"
     ]
    }
   ],
   "source": [
    "train_loss, test_loss = [], []\n",
    "net = CharLSTMLoop(len(tokens), rnn_num_units=512,emb_size=83).to(device)\n",
    "train(net, encoded, lstm=True, epochs=100, batch_size=100, seq_length=100)"
   ]
  },
  {
   "cell_type": "code",
   "execution_count": 45,
   "metadata": {
    "colab": {
     "base_uri": "https://localhost:8080/",
     "height": 336
    },
    "colab_type": "code",
    "executionInfo": {
     "elapsed": 1874,
     "status": "ok",
     "timestamp": 1592167605799,
     "user": {
      "displayName": "Анастасия Фокина",
      "photoUrl": "",
      "userId": "10857910223875896215"
     },
     "user_tz": -180
    },
    "id": "kl0aNXwE1TBT",
    "outputId": "d479b9d1-27eb-4f33-f9db-7d564ec34256"
   },
   "outputs": [
    {
     "data": {
      "text/plain": "<Figure size 1080x360 with 1 Axes>",
      "image/png": "[encoded data removed]"
     },
     "metadata": {
      "needs_background": "light"
     },
     "output_type": "display_data"
    }
   ],
   "source": [
    "plot_train_process(train_loss, test_loss)"
   ]
  },
  {
   "cell_type": "markdown",
   "metadata": {
    "colab_type": "text",
    "id": "-nuAnH94J3Oa"
   },
   "source": [
    "Generate text using the trained net with different `temperature` parameter: `[0.1, 0.2, 0.5, 1.0, 2.0]`.\n",
    "\n",
    "Evaluate the results visually, try to interpret them."
   ]
  },
  {
   "cell_type": "code",
   "execution_count": 46,
   "metadata": {
    "colab": {
     "base_uri": "https://localhost:8080/",
     "height": 658
    },
    "colab_type": "code",
    "executionInfo": {
     "elapsed": 5800,
     "status": "ok",
     "timestamp": 1592167614338,
     "user": {
      "displayName": "Анастасия Фокина",
      "photoUrl": "",
      "userId": "10857910223875896215"
     },
     "user_tz": -180
    },
    "id": "UYPiKORVJ3Oa",
    "outputId": "e5832b79-054a-41ee-b8ad-ed42c538a795"
   },
   "outputs": [
    {
     "name": "stdout",
     "output_type": "stream",
     "text": [
      "-----Current temp: 0.1------\n",
      "al\n",
      "\n",
      "\n",
      "xxxviii\n",
      "\n",
      "и вот уж не всё верной души,\n",
      "и всё то же, как меня списны,\n",
      "кого нашел я был бы старон,\n",
      "и всё в постелной простой своей\n",
      "кареча старый и постеле\n",
      "про столе старого в себя,\n",
      "как будто было он серески,\n",
      "и слово в денью в том и поэт\n",
      "и после приятнову и странной\n",
      "обиной старог на сталених,\n",
      "и всё в конечно прикавленьем\n",
      "не всё в конечно послененный,\n",
      "всё то же сказал и бограна,\n",
      "он постала на неварена\n",
      "и в томне проставном подоснались,\n",
      "она в последнем на старенных,\n",
      "и страстный как по лушене\n",
      "и татья\n",
      "-----Current temp: 0.2------\n",
      "ali\n",
      "\n",
      "и всё благорода послуга\n",
      "по скучам сумрачной порой\n",
      "не стариных бедного сведанье\n",
      "приводит с нимого всеманий,\n",
      "в постенной полною подоснет.\n",
      "\n",
      "\n",
      "\n",
      "xxxvii\n",
      "\n",
      "«не доме с ним меня без собою,\n",
      "скарастики молодок дума,\n",
      "и простоворется на свете,\n",
      "как будто было она всегодной,\n",
      "и вот с посленной поковенье,\n",
      "и всё то же, как быть, богодный,\n",
      "и слеза в сам медтем на могом,\n",
      "иль при разум и весель.\n",
      "она в старом подамит и света\n",
      "приводиш сердце в поли мне\n",
      "под небо стростью разворов;\n",
      "всё такой в доме поступила,\n",
      "порой на \n",
      "-----Current temp: 0.5------\n",
      "acii\n",
      "\n",
      "и пошла мне правидень моя;\n",
      "потом уж наслужение взоров\n",
      "с онанистой в сам медленно провядь,\n",
      "и всё тровутки из пробала\n",
      "как жаржет в цали в том и полем\n",
      "и сед балышится благорадной,\n",
      "не подам, и заменные приводы\n",
      "старины словинный просток\n",
      "на встре разлучнее мое;\n",
      "соказный в берпервиц запос,\n",
      "в досто с пород уж не вздала\n",
      "и застолши был он нетов.\n",
      "\n",
      "\n",
      "\n",
      "xxv\n",
      "\n",
      "поем межде было он собраний\n",
      "лучье и в садистном устахов,\n",
      "и всё двере всем и водим\n",
      "с каками сомаркаю тогов;\n",
      "и думу с праммнуго своим\n",
      "зареца в мости отм\n",
      "-----Current temp: 1.0------\n",
      "aз\n",
      "под свой упокадил ог ней,\n",
      "онегин, не хорот разквора,\n",
      "и огне бригла дрезема,\n",
      "по-стремин к нем скабретей,\n",
      "вздевно в вот браденном одно,\n",
      "как еста та жадну татьяна,\n",
      "кто превставел леговирен..\n",
      "а гуко, с ваноми любиха.\n",
      "я всё девец умилых оптам\n",
      "на млуг рывый пормос заминах;\n",
      "в темут чит свез дверьго правины,\n",
      "гостовен в поснушей россии,\n",
      "карпорвым нашек и глаши!\n",
      "когда сердцем огном бузрана!\n",
      "когда, типоск, поступвии мно.\n",
      "в глядих не возал возружный;\n",
      "и двурь прашливых и тимой,\n",
      "проходит наш пестанный слад\n",
      "в\n",
      "-----Current temp: 2.0------\n",
      "af зeюs,i пищный убомь\n",
      "люблюющаг д пеуряр сонась\n",
      "ek€ осмьмрек ногадне ев зефра\n",
      "iм\n",
      "изит, тобовых, не расине:;\n",
      "непесдышка, аме бамест взымо,!7мус, чипоаптавшне мое жгоснуславитвяхи вчахадь,\n",
      "…\n",
      "у рыссигою чук лес-изси; пки тлиоб\n",
      "(чщитаяу шившпогороней дмеще,» – средох,ян однят.\n",
      "обпянций наперьу, чкудов.\n",
      "гду с-попнуслувьбы: пуши нтeем).)\n",
      "в охчепаною вxю!ей цвейке;\n",
      "цокувынск озматри долгаю\n",
      "зченой, хуртиту: бурный азмуннко,\n",
      "качписграссклюдкю зgдебима\n",
      "семаюс? тайн шнеоа фечасной мниченсное, гто ей.\n",
      "q\n",
      "\n",
      "ioi\n"
     ]
    }
   ],
   "source": [
    "# Text generation with different temperature values here\n",
    "for temp in [0.1, 0.2, 0.5, 1.0, 2.0]:\n",
    "    print('-----Current temp: {}------'.format(temp))\n",
    "    print(sample(net, 500, prime='a', temperature=temp, lstm=True))"
   ]
  },
  {
   "cell_type": "markdown",
   "metadata": {
    "colab_type": "text",
    "id": "VE3tVHOIJ3Oi"
   },
   "source": [
    "### Saving and loading models"
   ]
  },
  {
   "cell_type": "markdown",
   "metadata": {
    "colab_type": "text",
    "id": "iOSfv6ECJ3Oj"
   },
   "source": [
    "Save the model to the disk, then load it and generate text. Examples are available [here](https://pytorch.org/tutorials/beginner/saving_loading_models.html])."
   ]
  },
  {
   "cell_type": "code",
   "execution_count": 47,
   "metadata": {
    "colab": {
     "base_uri": "https://localhost:8080/",
     "height": 202
    },
    "colab_type": "code",
    "executionInfo": {
     "elapsed": 1612,
     "status": "ok",
     "timestamp": 1590421021486,
     "user": {
      "displayName": "Анастасия Фокина",
      "photoUrl": "",
      "userId": "10857910223875896215"
     },
     "user_tz": -180
    },
    "id": "MSNJHi9yJ3Ok",
    "outputId": "fec04063-959a-49c4-a228-33bd52e3e292"
   },
   "outputs": [
    {
     "ename": "RuntimeError",
     "evalue": "Error(s) in loading state_dict for CharLSTMLoop:\n\tsize mismatch for rnn.weight_ih_l0: copying a param with shape torch.Size([2048, 83]) from checkpoint, the shape in current model is torch.Size([2048, 90]).",
     "output_type": "error",
     "traceback": [
      "\u001B[1;31m---------------------------------------------------------------------------\u001B[0m",
      "\u001B[1;31mRuntimeError\u001B[0m                              Traceback (most recent call last)",
      "\u001B[1;32m<ipython-input-47-4364ace4688e>\u001B[0m in \u001B[0;36m<module>\u001B[1;34m\u001B[0m\n\u001B[0;32m      2\u001B[0m \u001B[0mtorch\u001B[0m\u001B[1;33m.\u001B[0m\u001B[0msave\u001B[0m\u001B[1;33m(\u001B[0m\u001B[0mnet\u001B[0m\u001B[1;33m.\u001B[0m\u001B[0mstate_dict\u001B[0m\u001B[1;33m(\u001B[0m\u001B[1;33m)\u001B[0m\u001B[1;33m,\u001B[0m \u001B[1;34m'./model.pt'\u001B[0m\u001B[1;33m)\u001B[0m\u001B[1;33m\u001B[0m\u001B[1;33m\u001B[0m\u001B[0m\n\u001B[0;32m      3\u001B[0m \u001B[0mloaded_model\u001B[0m \u001B[1;33m=\u001B[0m \u001B[0mCharLSTMLoop\u001B[0m\u001B[1;33m(\u001B[0m\u001B[0mlen\u001B[0m\u001B[1;33m(\u001B[0m\u001B[0mtokens\u001B[0m\u001B[1;33m)\u001B[0m\u001B[1;33m,\u001B[0m \u001B[0mrnn_num_units\u001B[0m\u001B[1;33m=\u001B[0m\u001B[1;36m512\u001B[0m\u001B[1;33m)\u001B[0m\u001B[1;33m.\u001B[0m\u001B[0mto\u001B[0m\u001B[1;33m(\u001B[0m\u001B[0mdevice\u001B[0m\u001B[1;33m)\u001B[0m\u001B[1;33m\u001B[0m\u001B[1;33m\u001B[0m\u001B[0m\n\u001B[1;32m----> 4\u001B[1;33m \u001B[0mloaded_model\u001B[0m\u001B[1;33m.\u001B[0m\u001B[0mload_state_dict\u001B[0m\u001B[1;33m(\u001B[0m\u001B[0mtorch\u001B[0m\u001B[1;33m.\u001B[0m\u001B[0mload\u001B[0m\u001B[1;33m(\u001B[0m\u001B[1;34m'./model.pt'\u001B[0m\u001B[1;33m)\u001B[0m\u001B[1;33m)\u001B[0m\u001B[1;33m\u001B[0m\u001B[1;33m\u001B[0m\u001B[0m\n\u001B[0m\u001B[0;32m      5\u001B[0m \u001B[0mloaded_model\u001B[0m\u001B[1;33m.\u001B[0m\u001B[0meval\u001B[0m\u001B[1;33m(\u001B[0m\u001B[1;33m)\u001B[0m\u001B[1;33m\u001B[0m\u001B[1;33m\u001B[0m\u001B[0m\n\u001B[0;32m      6\u001B[0m \u001B[0mprint\u001B[0m\u001B[1;33m(\u001B[0m\u001B[0msample\u001B[0m\u001B[1;33m(\u001B[0m\u001B[0mloaded_model\u001B[0m\u001B[1;33m,\u001B[0m \u001B[1;36m500\u001B[0m\u001B[1;33m,\u001B[0m \u001B[0mlstm\u001B[0m\u001B[1;33m=\u001B[0m\u001B[1;32mTrue\u001B[0m\u001B[1;33m)\u001B[0m\u001B[1;33m)\u001B[0m\u001B[1;33m\u001B[0m\u001B[1;33m\u001B[0m\u001B[0m\n",
      "\u001B[1;32mc:\\users\\ilya\\appdata\\local\\programs\\python\\python38\\lib\\site-packages\\torch\\nn\\modules\\module.py\u001B[0m in \u001B[0;36mload_state_dict\u001B[1;34m(self, state_dict, strict)\u001B[0m\n\u001B[0;32m   1042\u001B[0m \u001B[1;33m\u001B[0m\u001B[0m\n\u001B[0;32m   1043\u001B[0m         \u001B[1;32mif\u001B[0m \u001B[0mlen\u001B[0m\u001B[1;33m(\u001B[0m\u001B[0merror_msgs\u001B[0m\u001B[1;33m)\u001B[0m \u001B[1;33m>\u001B[0m \u001B[1;36m0\u001B[0m\u001B[1;33m:\u001B[0m\u001B[1;33m\u001B[0m\u001B[1;33m\u001B[0m\u001B[0m\n\u001B[1;32m-> 1044\u001B[1;33m             raise RuntimeError('Error(s) in loading state_dict for {}:\\n\\t{}'.format(\n\u001B[0m\u001B[0;32m   1045\u001B[0m                                self.__class__.__name__, \"\\n\\t\".join(error_msgs)))\n\u001B[0;32m   1046\u001B[0m         \u001B[1;32mreturn\u001B[0m \u001B[0m_IncompatibleKeys\u001B[0m\u001B[1;33m(\u001B[0m\u001B[0mmissing_keys\u001B[0m\u001B[1;33m,\u001B[0m \u001B[0munexpected_keys\u001B[0m\u001B[1;33m)\u001B[0m\u001B[1;33m\u001B[0m\u001B[1;33m\u001B[0m\u001B[0m\n",
      "\u001B[1;31mRuntimeError\u001B[0m: Error(s) in loading state_dict for CharLSTMLoop:\n\tsize mismatch for rnn.weight_ih_l0: copying a param with shape torch.Size([2048, 83]) from checkpoint, the shape in current model is torch.Size([2048, 90])."
     ]
    }
   ],
   "source": [
    "# Saving and loading code here\n",
    "torch.save(net.state_dict(), './model.pt')\n",
    "loaded_model = CharLSTMLoop(len(tokens), rnn_num_units=512).to(device)\n",
    "loaded_model.load_state_dict(torch.load('./model.pt'))\n",
    "loaded_model.eval()\n",
    "print(sample(loaded_model, 500, lstm=True))"
   ]
  },
  {
   "cell_type": "markdown",
   "metadata": {
    "colab_type": "text",
    "id": "9Lzg-6WZlPgD"
   },
   "source": [
    "Не очень понятно, нужен ли отчет, но пусть будет. \n",
    "\n",
    "Решила взять Шекспира, скорее из желания работать с английским языком.\n",
    "\n",
    "Очевидны преимущества LSTM как из сэмплов, так и из графиков.\n",
    "\n",
    "Немного неочевдны итоги с экспериментов с температурой: мной отмечены рост разнообразия пунктуации с ростом температуры- появляются восклицательные знаки, двоеточия, ; Также появлятся попытки притяжательных прилагательных. Разнообразие слов оценить затрудняюсь."
   ]
  },
  {
   "cell_type": "markdown",
   "metadata": {
    "colab_type": "text",
    "id": "xBMu7RpTJ3On"
   },
   "source": [
    "### References\n",
    "1. <a href='http://karpathy.github.io/2015/05/21/rnn-effectiveness/'> Andrew Karpathy blog post about RNN. </a> \n",
    "There are several examples of genration: Shakespeare texts, Latex formulas, Linux Sourse Code and children names.\n",
    "2. <a href='https://github.com/karpathy/char-rnn'> Repo with char-rnn code </a>\n",
    "3. Cool repo with PyTorch examples: [link](https://github.com/spro/practical-pytorch`)"
   ]
  }
 ],
 "metadata": {
  "anaconda-cloud": {},
  "colab": {
   "collapsed_sections": [],
   "name": "Copy of Lab3_DL_part3_poetry.ipynb",
   "provenance": [
    {
     "file_id": "https://github.com/ml-mipt/ml-mipt/blob/basic_s20/homeworks_basic/Lab3_DL/Lab3_DL_part3_poetry.ipynb",
     "timestamp": 1590163905675
    }
   ],
   "toc_visible": true
  },
  "kernelspec": {
   "display_name": "Python 3",
   "language": "python",
   "name": "python3"
  },
  "language_info": {
   "codemirror_mode": {
    "name": "ipython",
    "version": 3
   },
   "file_extension": ".py",
   "mimetype": "text/x-python",
   "name": "python",
   "nbconvert_exporter": "python",
   "pygments_lexer": "ipython3",
   "version": "3.7.3"
  }
 },
 "nbformat": 4,
 "nbformat_minor": 1
}