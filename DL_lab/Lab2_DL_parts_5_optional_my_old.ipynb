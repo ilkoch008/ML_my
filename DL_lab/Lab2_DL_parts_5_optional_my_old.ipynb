{
 "cells": [
  {
   "cell_type": "code",
   "execution_count": 1,
   "outputs": [
    {
     "name": "stdout",
     "output_type": "stream",
     "text": [
      "cuda\n"
     ]
    }
   ],
   "source": [
    "from PIL import Image\n",
    "from torchvision.transforms import ToTensor\n",
    "import torchvision.models as models\n",
    "import os\n",
    "from random import shuffle\n",
    "import torchsummary\n",
    "import torch\n",
    "import torch.nn as nn\n",
    "import time\n",
    "import numpy as np\n",
    "import matplotlib.pyplot as plt\n",
    "import gc\n",
    "\n",
    "device = torch.device(\"cuda\") if torch.cuda.is_available() else torch.device(\"cpu\")\n",
    "\n",
    "print(device)\n",
    "\n",
    "def train_model(model, train_loader, val_loader, loss_fn, opt, n_epochs: int, device=device, decr_coeff = 1, decr_ep_n = 10):\n",
    "    '''\n",
    "    model: нейросеть для обучения,\n",
    "    train_loader, val_loader: загрузчики данных\n",
    "    loss_fn: целевая метрика (которую будем оптимизировать)\n",
    "    opt: оптимизатор (обновляет веса нейросети)\n",
    "    n_epochs: кол-во эпох, полных проходов датасета\n",
    "    '''\n",
    "    train_loss = []\n",
    "    val_loss = []\n",
    "    train_accuracy = []\n",
    "    val_accuracy = []\n",
    "    counter = 0\n",
    "    for epoch in range(n_epochs):\n",
    "        ep_train_loss = []\n",
    "        ep_val_loss = []\n",
    "        ep_train_accuracy = []\n",
    "        ep_val_accuracy = []\n",
    "        start_time = time.time()\n",
    "        counter += 1\n",
    "        if counter == decr_ep_n:\n",
    "            counter = 0\n",
    "            for g in opt.param_groups:\n",
    "                g['lr'] = g['lr'] / decr_coeff\n",
    "\n",
    "        model.train(True) # enable dropout / batch_norm training behavior\n",
    "        for X_batch, y_batch in train_loader:\n",
    "            opt.zero_grad()\n",
    "            # move data to target device\n",
    "            X_batch, y_batch = X_batch.to(device), y_batch.to(device)\n",
    "            # train on batch: compute loss, calc grads, perform optimizer step and zero the grads\n",
    "            out = model(X_batch)\n",
    "            loss = loss_fn(out, y_batch)\n",
    "            loss.backward()\n",
    "            opt.step()\n",
    "            ep_train_loss.append(loss.item())\n",
    "            ep_train_accuracy.append(torch_accuracy_score(y_batch, model(X_batch)))\n",
    "\n",
    "        model.train(False) # disable dropout / use averages for batch_norm\n",
    "        with torch.no_grad():\n",
    "            for X_batch, y_batch in val_loader:\n",
    "                # move data to target device\n",
    "                X_batch, y_batch = X_batch.to(device), y_batch.to(device)\n",
    "                # train on batch: compute loss, calc grads, perform optimizer step and zero the grads\n",
    "                out = model(X_batch)\n",
    "                loss = loss_fn(out, y_batch)\n",
    "\n",
    "                # compute predictions\n",
    "                ep_val_loss.append(loss.item())\n",
    "                y_pred = out.max(dim=1)[1]\n",
    "                ep_val_accuracy.append(np.sum(y_batch.cpu().numpy() == y_pred.cpu().numpy().astype(float))/ len(y_batch.cpu()))\n",
    "        # print the results for this epoch:\n",
    "        print(f'Epoch {epoch + 1} of {n_epochs} took {time.time() - start_time:.3f}s')\n",
    "\n",
    "        train_loss.append(np.mean(ep_train_loss))\n",
    "        train_accuracy.append(np.mean(ep_train_accuracy))\n",
    "\n",
    "        val_loss.append(np.mean(ep_val_loss))\n",
    "        val_accuracy.append(np.mean(ep_val_accuracy))\n",
    "\n",
    "        print(f\"\\t training loss: {train_loss[-1]:.6f}\")\n",
    "        print(f\"\\t training accuracy: {train_accuracy[-1]:.6f}\")\n",
    "        print(f\"\\t validation loss: {val_loss[-1]:.6f}\")\n",
    "        print(f\"\\t validation accuracy: {val_accuracy[-1]:.3f}\")\n",
    "\n",
    "    return train_loss, train_accuracy, val_loss, val_accuracy\n",
    "\n",
    "def torch_accuracy_score(y_true, predictions):\n",
    "    y_pred = predictions.max(dim=1)[1]\n",
    "    return np.mean(np.array(y_true.cpu() == y_pred.cpu()))\n",
    "\n",
    "def plot_training(tr_loss, tr_acc, val_loss, val_acc):\n",
    "    fig, axes = plt.subplots(1, 2, figsize=(16, 6))\n",
    "\n",
    "    axes[0].set_title('Accuracy')\n",
    "    axes[0].plot(tr_acc, label='Training accuracy')\n",
    "    axes[0].plot(val_acc, label='Validation accuracy')\n",
    "    axes[0].set_xlabel('n epoch')\n",
    "    axes[0].grid(True)\n",
    "    axes[0].legend()\n",
    "\n",
    "    axes[1].set_title('Loss')\n",
    "    axes[1].plot(tr_loss, label='Training loss')\n",
    "    axes[1].plot(val_loss, label='Validation loss')\n",
    "    axes[1].set_xlabel('n epoch')\n",
    "    axes[1].grid(True)\n",
    "    axes[1].legend()\n",
    "\n",
    "    plt.show()\n",
    "\n",
    "def model_test_score(model, test_loader):\n",
    "    test_accuracy = []\n",
    "    with torch.no_grad():\n",
    "        for X_batch, y_batch in test_loader:\n",
    "            X_batch, y_batch = X_batch.to(device), y_batch.to(device)\n",
    "            predictions = model(X_batch)\n",
    "            test_accuracy.append(torch_accuracy_score(y_batch.flatten(), predictions))\n",
    "\n",
    "    return np.mean(test_accuracy)\n"
   ],
   "metadata": {
    "collapsed": false,
    "pycharm": {
     "name": "#%%\n"
    }
   }
  },
  {
   "cell_type": "markdown",
   "source": [
    "### Part 5. Dogs classification (2+ points)\n",
    "__Disclaimer__: Это опциональная часть задания. Здесь придется экспериментировать, подбирать оптимальную структуру сети для решения задачи и активно искать подскзаки в сети.\n",
    "\n",
    "Предлагаем вам решить задачу классификации пород собак. Вы можете обучить сеть с нуля или же воспользоваться методом fine-tuning'а. Полезная ссылка на [предобученные модели](https://pytorch.org/docs/stable/torchvision/models.html).\n",
    "\n",
    "Данные можно скачать [отсюда](https://www.dropbox.com/s/vgqpz2f1lolxmlv/data.zip?dl=0). Датасет представлен 50 классами пород собак, которые можно найти в папке train в соответствующих директориях. При сдаче данной части задания вместе с ноутбуком необходимо отправить .csv-файл с предсказаниями классов тестовой выборки в формате: <имя изображения>,<метка класса> по одному объекту на строку. Ниже приведите код ваших экспериментов и короткий вывод по их результатам.\n",
    "\n",
    "Будут оцениваться качество классификации (accuracy) на тестовой выборке (2 балла) и проведенные эксперименты (1 балл).\n",
    "Разбалловка следующая:\n",
    "* $>=$93% - 2 points\n",
    "* $>=$84% - 1.5 points\n",
    "* $>=$70% - 0.75 points\n",
    "\n",
    "#### Результаты:\n",
    "\n",
    "Сначала я пытался создать и обучить ванильную свёрточную сеть, но, как можно догадаться,\n",
    "у меня ничего не вышло.\n",
    "\n",
    "Потом я подтянул предобученный ResNet-152 и результат стал значительно лучше\n",
    "(пруфы снизу).\n",
    "\n"
   ],
   "metadata": {
    "collapsed": false
   }
  },
  {
   "cell_type": "code",
   "execution_count": 2,
   "outputs": [],
   "source": [
    "# Your experiments here\n"
   ],
   "metadata": {
    "collapsed": false,
    "pycharm": {
     "name": "#%%\n"
    }
   }
  },
  {
   "cell_type": "code",
   "execution_count": 2,
   "outputs": [],
   "source": [
    "def process_im(image):\n",
    "    x, y = image.size\n",
    "    max_size = max(x,y)\n",
    "    hms = int(max_size/2)\n",
    "    lh_x = 0\n",
    "    lh_y = 0\n",
    "    if x > y:\n",
    "        lh_y = int(hms - y/2)\n",
    "    else:\n",
    "        lh_x = int(hms - x/2)\n",
    "    new_image = Image.new(\"RGB\", (max_size, max_size), color=0)\n",
    "    new_image.paste(image,(lh_x,lh_y,lh_x+x,lh_y+y))\n",
    "    new_image = new_image.resize((224,224))\n",
    "    # new_image.transpose(Image.FLIP_LEFT_RIGHT).show()\n",
    "\n",
    "    return ToTensor()(new_image)"
   ],
   "metadata": {
    "collapsed": false,
    "pycharm": {
     "name": "#%%\n"
    }
   }
  },
  {
   "cell_type": "code",
   "execution_count": 3,
   "outputs": [
    {
     "data": {
      "text/plain": "torch.Size([3, 224, 224])"
     },
     "execution_count": 3,
     "metadata": {},
     "output_type": "execute_result"
    }
   ],
   "source": [
    "img_path = \"data/train/0/63.jpeg\"\n",
    "init_image = Image.open(img_path)\n",
    "process_im(init_image).shape"
   ],
   "metadata": {
    "collapsed": false,
    "pycharm": {
     "name": "#%%\n"
    }
   }
  },
  {
   "cell_type": "code",
   "execution_count": 3,
   "outputs": [],
   "source": [
    "data = list()\n",
    "for i in range(0, 50):\n",
    "    for j in range(0,200):\n",
    "        if os.path.isfile(\"data/train/\"+str(i)+\"/\"+str(j)+\".jpeg\"):\n",
    "            img_path = \"data/train/\"+str(i)+\"/\"+str(j)+\".jpeg\"\n",
    "            init_image = Image.open(img_path)\n",
    "            data.append((process_im(init_image), int(i)))\n",
    "            # data.append((process_im(init_image.rotate(angle=20)), int(i)))\n",
    "            # data.append((process_im(init_image.rotate(angle=-20)), int(i)))\n",
    "            mirrored_image = init_image.transpose(Image.FLIP_LEFT_RIGHT)\n",
    "            data.append((process_im(mirrored_image), int(i)))\n",
    "            # data.append((process_im(mirrored_image.rotate(angle=20)), int(i)))\n",
    "            # data.append((process_im(mirrored_image.rotate(angle=-20)), int(i)))\n",
    "\n",
    "shuffle(data)"
   ],
   "metadata": {
    "collapsed": false,
    "pycharm": {
     "name": "#%%\n"
    }
   }
  },
  {
   "cell_type": "code",
   "execution_count": 5,
   "outputs": [
    {
     "name": "stdout",
     "output_type": "stream",
     "text": [
      "torch.Size([3, 224, 224])\n",
      "14228\n"
     ]
    }
   ],
   "source": [
    "for x, y in data:\n",
    "    print(x.shape)\n",
    "    break\n",
    "\n",
    "print(len(data))"
   ],
   "metadata": {
    "collapsed": false,
    "pycharm": {
     "name": "#%%\n"
    }
   }
  },
  {
   "cell_type": "code",
   "execution_count": 4,
   "outputs": [
    {
     "name": "stdout",
     "output_type": "stream",
     "text": [
      "11382\n",
      "1423\n",
      "1423\n"
     ]
    },
    {
     "data": {
      "text/plain": "19"
     },
     "execution_count": 4,
     "metadata": {},
     "output_type": "execute_result"
    }
   ],
   "source": [
    "split_index1 = int(0.8 * data.__len__())\n",
    "split_index2 = int(0.9 * data.__len__())\n",
    "train_dataset, val_dataset, test_dataset = data[:split_index1], data[split_index1:split_index2], data[split_index2:]\n",
    "print(len(train_dataset))\n",
    "print(len(val_dataset))\n",
    "print(len(test_dataset))\n",
    "gc.collect()"
   ],
   "metadata": {
    "collapsed": false,
    "pycharm": {
     "name": "#%%\n"
    }
   }
  },
  {
   "cell_type": "code",
   "execution_count": 5,
   "outputs": [
    {
     "name": "stdout",
     "output_type": "stream",
     "text": [
      "torch.Size([16, 3, 224, 224])\n"
     ]
    }
   ],
   "source": [
    "train_loader = torch.utils.data.DataLoader(train_dataset,\n",
    "                                           batch_size=16,\n",
    "                                           shuffle=True,\n",
    "                                           num_workers=0)\n",
    "val_loader = torch.utils.data.DataLoader(val_dataset,\n",
    "                                           batch_size=16,\n",
    "                                           shuffle = False,\n",
    "                                           num_workers = 0)\n",
    "test_loader = torch.utils.data.DataLoader(test_dataset,\n",
    "                                          batch_size=8,\n",
    "                                          shuffle=False,\n",
    "                                          num_workers=0)\n",
    "\n",
    "for x, y in train_loader:\n",
    "    print(x.shape)\n",
    "    break"
   ],
   "metadata": {
    "collapsed": false,
    "pycharm": {
     "name": "#%%\n"
    }
   }
  },
  {
   "cell_type": "code",
   "execution_count": null,
   "outputs": [],
   "source": [
    "class NeuralNetwork(nn.Module):\n",
    "    def __init__(self, input_shape=3*256*256, num_classes=50, input_channels=1):\n",
    "        super(self.__class__, self).__init__()\n",
    "        self.model = nn.Sequential(\n",
    "            nn.Conv2d(in_channels=3, out_channels=3, kernel_size=257, stride=1, padding=128), # out 256\n",
    "            nn.BatchNorm2d(3),\n",
    "            nn.ReLU(),\n",
    "\n",
    "            # ================================================================\n",
    "            nn.Conv2d(in_channels=3, out_channels=3, kernel_size=257, stride=1, padding=128), # out 256\n",
    "            nn.BatchNorm2d(3),\n",
    "            nn.ReLU(),\n",
    "            nn.MaxPool2d(kernel_size=2,stride=2), # out 128\n",
    "\n",
    "            # ================================================================\n",
    "            nn.Conv2d(in_channels=3, out_channels=3, kernel_size=129, stride=1, padding=64),# out 128\n",
    "            nn.BatchNorm2d(3),\n",
    "            nn.ReLU(),\n",
    "\n",
    "            # ================================================================\n",
    "            nn.Conv2d(in_channels=3, out_channels=3, kernel_size=129, stride=1, padding=64),# out 128\n",
    "            nn.BatchNorm2d(3),\n",
    "            nn.ReLU(),\n",
    "            nn.MaxPool2d(kernel_size=2,stride=2),# out 64\n",
    "\n",
    "            # ================================================================\n",
    "            nn.Conv2d(in_channels=3, out_channels=3, kernel_size=65, stride=1, padding=32),# out 64\n",
    "            nn.BatchNorm2d(3),\n",
    "            nn.ReLU(),\n",
    "\n",
    "            # ================================================================\n",
    "            nn.Conv2d(in_channels=3, out_channels=3, kernel_size=65, stride=1, padding=32),# out 64\n",
    "            nn.BatchNorm2d(3),\n",
    "            nn.ReLU(),\n",
    "            nn.MaxPool2d(kernel_size=2,stride=2),# out 32\n",
    "\n",
    "            # ================================================================\n",
    "            nn.Conv2d(in_channels=3, out_channels=3, kernel_size=33, stride=1, padding=16),# out 32\n",
    "            nn.BatchNorm2d(3),\n",
    "            nn.ReLU(),\n",
    "\n",
    "            # ================================================================\n",
    "            nn.Conv2d(in_channels=3, out_channels=3, kernel_size=33, stride=1, padding=16),# out 32\n",
    "            nn.BatchNorm2d(3),\n",
    "            nn.ReLU(),\n",
    "            nn.MaxPool2d(kernel_size=2,stride=2),# out 16\n",
    "\n",
    "            # ================================================================\n",
    "            nn.Conv2d(in_channels=3, out_channels=3, kernel_size=17, stride=1, padding=8),# out 16\n",
    "            nn.BatchNorm2d(3),\n",
    "            nn.ReLU(),\n",
    "\n",
    "            # ================================================================\n",
    "            nn.Conv2d(in_channels=3, out_channels=3, kernel_size=17, stride=1, padding=8),# out 16\n",
    "            nn.BatchNorm2d(3),\n",
    "            nn.ReLU(),\n",
    "            nn.MaxPool2d(kernel_size=2,stride=2), # out 8 => 8*8*3=192\n",
    "            # ================================================================\n",
    "            nn.Flatten(),\n",
    "            nn.Linear(192, num_classes),\n",
    "            nn.BatchNorm1d(num_classes, eps = 1e-3, momentum = 0.1),\n",
    "            nn.LogSoftmax(dim = 1)\n",
    "        )\n",
    "\n",
    "    def forward(self, inp):\n",
    "        out = self.model(inp)\n",
    "        return out\n",
    "\n",
    "torchsummary.summary(NeuralNetwork().to(device), (3,256,256))"
   ],
   "metadata": {
    "collapsed": false,
    "pycharm": {
     "name": "#%%\n",
     "is_executing": true
    }
   }
  },
  {
   "cell_type": "code",
   "execution_count": 31,
   "outputs": [
    {
     "name": "stdout",
     "output_type": "stream",
     "text": [
      "----------------------------------------------------------------\n",
      "        Layer (type)               Output Shape         Param #\n",
      "================================================================\n",
      "            Conv2d-1          [-1, 3, 224, 224]           9,804\n",
      "       BatchNorm2d-2          [-1, 3, 224, 224]               6\n",
      "              Tanh-3          [-1, 3, 224, 224]               0\n",
      "            Conv2d-4          [-1, 3, 192, 192]           9,804\n",
      "       BatchNorm2d-5          [-1, 3, 192, 192]               6\n",
      "              Tanh-6          [-1, 3, 192, 192]               0\n",
      "            Conv2d-7          [-1, 3, 160, 160]           9,804\n",
      "       BatchNorm2d-8          [-1, 3, 160, 160]               6\n",
      "              Tanh-9          [-1, 3, 160, 160]               0\n",
      "           Conv2d-10          [-1, 3, 128, 128]           9,804\n",
      "      BatchNorm2d-11          [-1, 3, 128, 128]               6\n",
      "             Tanh-12          [-1, 3, 128, 128]               0\n",
      "           Conv2d-13            [-1, 3, 96, 96]           9,804\n",
      "      BatchNorm2d-14            [-1, 3, 96, 96]               6\n",
      "             Tanh-15            [-1, 3, 96, 96]               0\n",
      "           Conv2d-16            [-1, 3, 64, 64]           9,804\n",
      "      BatchNorm2d-17            [-1, 3, 64, 64]               6\n",
      "             Tanh-18            [-1, 3, 64, 64]               0\n",
      "           Conv2d-19            [-1, 3, 32, 32]           9,804\n",
      "      BatchNorm2d-20            [-1, 3, 32, 32]               6\n",
      "             Tanh-21            [-1, 3, 32, 32]               0\n",
      "          Flatten-22                 [-1, 3072]               0\n",
      "           Linear-23                  [-1, 512]       1,573,376\n",
      "      BatchNorm1d-24                  [-1, 512]           1,024\n",
      "        LeakyReLU-25                  [-1, 512]               0\n",
      "           Linear-26                   [-1, 50]          25,650\n",
      "      BatchNorm1d-27                   [-1, 50]             100\n",
      "       LogSoftmax-28                   [-1, 50]               0\n",
      "================================================================\n",
      "Total params: 1,668,820\n",
      "Trainable params: 1,668,820\n",
      "Non-trainable params: 0\n",
      "----------------------------------------------------------------\n",
      "Input size (MB): 0.75\n",
      "Forward/backward pass size (MB): 9.88\n",
      "Params size (MB): 6.37\n",
      "Estimated Total Size (MB): 17.00\n",
      "----------------------------------------------------------------\n"
     ]
    }
   ],
   "source": [
    "class TinyNeuralNetwork(nn.Module):\n",
    "    def __init__(self, input_shape=3*256*256, num_classes=50, input_channels=1):\n",
    "        super(self.__class__, self).__init__()\n",
    "        self.model = nn.Sequential(\n",
    "            nn.Conv2d(in_channels=3, out_channels=3, kernel_size=33),\n",
    "            nn.BatchNorm2d(3),\n",
    "            nn.Tanh(),\n",
    "            nn.Conv2d(in_channels=3, out_channels=3, kernel_size=33),\n",
    "            nn.BatchNorm2d(3),\n",
    "            nn.Tanh(),\n",
    "            nn.Conv2d(in_channels=3, out_channels=3, kernel_size=33),\n",
    "            nn.BatchNorm2d(3),\n",
    "            nn.Tanh(),\n",
    "            nn.Conv2d(in_channels=3, out_channels=3, kernel_size=33),\n",
    "            nn.BatchNorm2d(3),\n",
    "            nn.Tanh(),\n",
    "            nn.Conv2d(in_channels=3, out_channels=3, kernel_size=33),\n",
    "            nn.BatchNorm2d(3),\n",
    "            nn.Tanh(),\n",
    "            nn.Conv2d(in_channels=3, out_channels=3, kernel_size=33),\n",
    "            nn.BatchNorm2d(3),\n",
    "            nn.Tanh(),\n",
    "            nn.Conv2d(in_channels=3, out_channels=3, kernel_size=33),\n",
    "            nn.BatchNorm2d(3),\n",
    "            nn.Tanh(),\n",
    "            nn.Flatten(),\n",
    "            nn.Linear(3*1024, 512),\n",
    "            nn.BatchNorm1d(512, eps = 1e-3, momentum = 0.1),\n",
    "            nn.LeakyReLU(),\n",
    "            nn.Linear(512, num_classes),\n",
    "            nn.BatchNorm1d(num_classes, eps = 1e-3, momentum = 0.1),\n",
    "            nn.LogSoftmax(dim = 1)\n",
    "        )\n",
    "\n",
    "    def forward(self, inp):\n",
    "        out = self.model(inp)\n",
    "        return out\n",
    "\n",
    "torchsummary.summary(TinyNeuralNetwork().to(device), (3,256,256))"
   ],
   "metadata": {
    "collapsed": false,
    "pycharm": {
     "name": "#%%\n"
    }
   }
  },
  {
   "cell_type": "code",
   "execution_count": 38,
   "outputs": [
    {
     "name": "stdout",
     "output_type": "stream",
     "text": [
      "Epoch 1 of 15 took 447.933s\n",
      "\t training loss: 4.244641\n",
      "\t training accuracy: 0.029399\n",
      "\t validation loss: 4.151382\n",
      "\t validation accuracy: 0.024\n",
      "Epoch 2 of 15 took 449.960s\n",
      "\t training loss: 3.999197\n",
      "\t training accuracy: 0.043579\n",
      "\t validation loss: 4.016223\n",
      "\t validation accuracy: 0.041\n",
      "Epoch 3 of 15 took 448.991s\n",
      "\t training loss: 3.940243\n",
      "\t training accuracy: 0.047861\n",
      "\t validation loss: 3.946295\n",
      "\t validation accuracy: 0.036\n",
      "Epoch 4 of 15 took 448.044s\n",
      "\t training loss: 3.902750\n",
      "\t training accuracy: 0.048323\n",
      "\t validation loss: 3.924788\n",
      "\t validation accuracy: 0.037\n",
      "Epoch 5 of 15 took 447.892s\n",
      "\t training loss: 3.870261\n",
      "\t training accuracy: 0.048470\n",
      "\t validation loss: 3.902748\n",
      "\t validation accuracy: 0.044\n",
      "Epoch 6 of 15 took 448.163s\n",
      "\t training loss: 3.849815\n",
      "\t training accuracy: 0.053649\n",
      "\t validation loss: 3.889932\n",
      "\t validation accuracy: 0.047\n",
      "Epoch 7 of 15 took 448.179s\n",
      "\t training loss: 3.827574\n",
      "\t training accuracy: 0.051998\n",
      "\t validation loss: 3.880684\n",
      "\t validation accuracy: 0.038\n",
      "Epoch 8 of 15 took 448.080s\n",
      "\t training loss: 3.805954\n",
      "\t training accuracy: 0.053908\n",
      "\t validation loss: 3.863492\n",
      "\t validation accuracy: 0.045\n",
      "Epoch 9 of 15 took 448.052s\n",
      "\t training loss: 3.791837\n",
      "\t training accuracy: 0.058942\n",
      "\t validation loss: 3.877253\n",
      "\t validation accuracy: 0.045\n",
      "Epoch 10 of 15 took 447.628s\n",
      "\t training loss: 3.777280\n",
      "\t training accuracy: 0.058451\n",
      "\t validation loss: 3.852491\n",
      "\t validation accuracy: 0.047\n",
      "Epoch 11 of 15 took 448.369s\n",
      "\t training loss: 3.759080\n",
      "\t training accuracy: 0.062994\n",
      "\t validation loss: 3.844906\n",
      "\t validation accuracy: 0.050\n",
      "Epoch 12 of 15 took 449.270s\n",
      "\t training loss: 3.744701\n",
      "\t training accuracy: 0.061229\n",
      "\t validation loss: 3.833532\n",
      "\t validation accuracy: 0.055\n",
      "Epoch 13 of 15 took 449.063s\n",
      "\t training loss: 3.738214\n",
      "\t training accuracy: 0.066525\n",
      "\t validation loss: 3.825577\n",
      "\t validation accuracy: 0.057\n",
      "Epoch 14 of 15 took 449.131s\n",
      "\t training loss: 3.723794\n",
      "\t training accuracy: 0.065107\n",
      "\t validation loss: 3.813839\n",
      "\t validation accuracy: 0.058\n",
      "Epoch 15 of 15 took 448.786s\n",
      "\t training loss: 3.709841\n",
      "\t training accuracy: 0.065222\n",
      "\t validation loss: 3.823229\n",
      "\t validation accuracy: 0.057\n"
     ]
    }
   ],
   "source": [
    "n_epochs = 15\n",
    "model = TinyNeuralNetwork().to(device)\n",
    "opt = torch.optim.Adam(model.parameters(), lr = 1e-3, betas=(0.9,0.95), eps=0.99) # YOUR CODE HERE\n",
    "loss_func = nn.NLLLoss() # YOUR CODE HERE\n",
    "\n",
    "tr_loss, tr_acc, val_loss, val_acc = train_model(model, train_loader, val_loader,\n",
    "                                                 loss_fn=loss_func, opt=opt, n_epochs=n_epochs,\n",
    "                                                 decr_coeff=1, decr_ep_n=5)"
   ],
   "metadata": {
    "collapsed": false,
    "pycharm": {
     "name": "#%%\n"
    }
   }
  },
  {
   "cell_type": "code",
   "execution_count": 39,
   "outputs": [
    {
     "data": {
      "text/plain": "<Figure size 1152x432 with 2 Axes>",
      "image/png": "[encoded data removed]"
     },
     "metadata": {
      "needs_background": "light"
     },
     "output_type": "display_data"
    }
   ],
   "source": [
    "plot_training(tr_loss, tr_acc, val_loss, val_acc)"
   ],
   "metadata": {
    "collapsed": false,
    "pycharm": {
     "name": "#%%\n"
    }
   }
  },
  {
   "cell_type": "code",
   "execution_count": 40,
   "outputs": [
    {
     "name": "stdout",
     "output_type": "stream",
     "text": [
      "test accuracy:\t0.053\n"
     ]
    }
   ],
   "source": [
    "model.eval()\n",
    "test_acc = model_test_score(model, test_loader)\n",
    "print('test accuracy:\\t{:.3f}'.format(test_acc))"
   ],
   "metadata": {
    "collapsed": false,
    "pycharm": {
     "name": "#%%\n"
    }
   }
  },
  {
   "cell_type": "code",
   "execution_count": null,
   "outputs": [],
   "source": [],
   "metadata": {
    "collapsed": false,
    "pycharm": {
     "name": "#%%\n"
    }
   }
  },
  {
   "cell_type": "code",
   "execution_count": 6,
   "outputs": [],
   "source": [
    "class ResNet(nn.Module):\n",
    "    def __init__(self, input_shape=3*224*224, num_classes=50, input_channels=3):\n",
    "        super(self.__class__, self).__init__()\n",
    "        self.model = models.resnet152(pretrained=True)\n",
    "        self.model.fc = nn.Sequential(\n",
    "            nn.Linear(2048, 1024),\n",
    "            nn.Dropout(0.3),\n",
    "            nn.BatchNorm1d(1024, eps = 1e-3, momentum = 0.1),\n",
    "            nn.ReLU(),\n",
    "            nn.Linear(1024, 512),\n",
    "            nn.Dropout(0.3),\n",
    "            nn.BatchNorm1d(512, eps = 1e-3, momentum = 0.1),\n",
    "            nn.ReLU(),\n",
    "            nn.Linear(512, num_classes),\n",
    "            nn.BatchNorm1d(num_classes, eps = 1e-3, momentum = 0.1),\n",
    "            nn.LogSoftmax(dim = 1)\n",
    "        )\n",
    "\n",
    "    def forward(self, inp):\n",
    "        out = self.model(inp)\n",
    "        return out\n",
    "\n",
    "# print(resnet)\n",
    "\n",
    "# torchsummary.summary(ResNet().to(device), (3,224,224))"
   ],
   "metadata": {
    "collapsed": false,
    "pycharm": {
     "name": "#%%\n"
    }
   }
  },
  {
   "cell_type": "code",
   "execution_count": 7,
   "outputs": [
    {
     "name": "stdout",
     "output_type": "stream",
     "text": [
      "Epoch 1 of 15 took 538.453s\n",
      "\t training loss: 2.213426\n",
      "\t training accuracy: 0.424157\n",
      "\t validation loss: 1.616015\n",
      "\t validation accuracy: 0.550\n"
     ]
    },
    {
     "ename": "KeyboardInterrupt",
     "evalue": "",
     "output_type": "error",
     "traceback": [
      "\u001B[1;31m---------------------------------------------------------------------------\u001B[0m",
      "\u001B[1;31mKeyboardInterrupt\u001B[0m                         Traceback (most recent call last)",
      "\u001B[1;32m<ipython-input-7-3aa32cfcb872>\u001B[0m in \u001B[0;36m<module>\u001B[1;34m\u001B[0m\n\u001B[0;32m      5\u001B[0m \u001B[0mloss_func\u001B[0m \u001B[1;33m=\u001B[0m \u001B[0mnn\u001B[0m\u001B[1;33m.\u001B[0m\u001B[0mNLLLoss\u001B[0m\u001B[1;33m(\u001B[0m\u001B[1;33m)\u001B[0m \u001B[1;31m# YOUR CODE HERE\u001B[0m\u001B[1;33m\u001B[0m\u001B[1;33m\u001B[0m\u001B[0m\n\u001B[0;32m      6\u001B[0m \u001B[1;33m\u001B[0m\u001B[0m\n\u001B[1;32m----> 7\u001B[1;33m tr_loss, tr_acc, val_loss, val_acc = train_model(model, train_loader, val_loader,\n\u001B[0m\u001B[0;32m      8\u001B[0m                                                  \u001B[0mloss_fn\u001B[0m\u001B[1;33m=\u001B[0m\u001B[0mloss_func\u001B[0m\u001B[1;33m,\u001B[0m \u001B[0mopt\u001B[0m\u001B[1;33m=\u001B[0m\u001B[0mopt\u001B[0m\u001B[1;33m,\u001B[0m \u001B[0mn_epochs\u001B[0m\u001B[1;33m=\u001B[0m\u001B[0mn_epochs\u001B[0m\u001B[1;33m,\u001B[0m\u001B[1;33m\u001B[0m\u001B[1;33m\u001B[0m\u001B[0m\n\u001B[0;32m      9\u001B[0m                                                  decr_coeff=2, decr_ep_n=2)\n",
      "\u001B[1;32m<ipython-input-1-369f897d6a4e>\u001B[0m in \u001B[0;36mtrain_model\u001B[1;34m(model, train_loader, val_loader, loss_fn, opt, n_epochs, device, decr_coeff, decr_ep_n)\u001B[0m\n\u001B[0;32m     51\u001B[0m             \u001B[0mloss\u001B[0m\u001B[1;33m.\u001B[0m\u001B[0mbackward\u001B[0m\u001B[1;33m(\u001B[0m\u001B[1;33m)\u001B[0m\u001B[1;33m\u001B[0m\u001B[1;33m\u001B[0m\u001B[0m\n\u001B[0;32m     52\u001B[0m             \u001B[0mopt\u001B[0m\u001B[1;33m.\u001B[0m\u001B[0mstep\u001B[0m\u001B[1;33m(\u001B[0m\u001B[1;33m)\u001B[0m\u001B[1;33m\u001B[0m\u001B[1;33m\u001B[0m\u001B[0m\n\u001B[1;32m---> 53\u001B[1;33m             \u001B[0mep_train_loss\u001B[0m\u001B[1;33m.\u001B[0m\u001B[0mappend\u001B[0m\u001B[1;33m(\u001B[0m\u001B[0mloss\u001B[0m\u001B[1;33m.\u001B[0m\u001B[0mitem\u001B[0m\u001B[1;33m(\u001B[0m\u001B[1;33m)\u001B[0m\u001B[1;33m)\u001B[0m\u001B[1;33m\u001B[0m\u001B[1;33m\u001B[0m\u001B[0m\n\u001B[0m\u001B[0;32m     54\u001B[0m             \u001B[0mep_train_accuracy\u001B[0m\u001B[1;33m.\u001B[0m\u001B[0mappend\u001B[0m\u001B[1;33m(\u001B[0m\u001B[0mtorch_accuracy_score\u001B[0m\u001B[1;33m(\u001B[0m\u001B[0my_batch\u001B[0m\u001B[1;33m,\u001B[0m \u001B[0mmodel\u001B[0m\u001B[1;33m(\u001B[0m\u001B[0mX_batch\u001B[0m\u001B[1;33m)\u001B[0m\u001B[1;33m)\u001B[0m\u001B[1;33m)\u001B[0m\u001B[1;33m\u001B[0m\u001B[1;33m\u001B[0m\u001B[0m\n\u001B[0;32m     55\u001B[0m \u001B[1;33m\u001B[0m\u001B[0m\n",
      "\u001B[1;31mKeyboardInterrupt\u001B[0m: "
     ]
    }
   ],
   "source": [
    "n_epochs = 15\n",
    "model = ResNet().to(device)\n",
    "# opt = torch.optim.Adam(model.parameters(), lr = 1e-3, betas=(0.9,0.95), eps=0.99) # YOUR CODE HERE\n",
    "opt = torch.optim.SGD(model.parameters(), lr = 1e-3, momentum = 0.99)\n",
    "loss_func = nn.NLLLoss() # YOUR CODE HERE\n",
    "\n",
    "tr_loss, tr_acc, val_loss, val_acc = train_model(model, train_loader, val_loader,\n",
    "                                                 loss_fn=loss_func, opt=opt, n_epochs=n_epochs,\n",
    "                                                 decr_coeff=2, decr_ep_n=2)"
   ],
   "metadata": {
    "collapsed": false,
    "pycharm": {
     "name": "#%%\n"
    }
   }
  },
  {
   "cell_type": "code",
   "execution_count": 18,
   "outputs": [
    {
     "data": {
      "text/plain": "<Figure size 1152x432 with 2 Axes>",
      "image/png": "[encoded data removed]"
     },
     "metadata": {
      "needs_background": "light"
     },
     "output_type": "display_data"
    }
   ],
   "source": [
    "plot_training(tr_loss, tr_acc, val_loss, val_acc)"
   ],
   "metadata": {
    "collapsed": false,
    "pycharm": {
     "name": "#%%\n"
    }
   }
  },
  {
   "cell_type": "code",
   "execution_count": 19,
   "outputs": [
    {
     "name": "stdout",
     "output_type": "stream",
     "text": [
      "test accuracy:\t0.913\n"
     ]
    }
   ],
   "source": [
    "model.eval()\n",
    "test_acc = model_test_score(model, test_loader)\n",
    "print('test accuracy:\\t{:.3f}'.format(test_acc))\n",
    "\n"
   ],
   "metadata": {
    "collapsed": false,
    "pycharm": {
     "name": "#%%\n"
    }
   }
  }
 ],
 "metadata": {
  "anaconda-cloud": {},
  "kernelspec": {
   "display_name": "Python 3",
   "language": "python",
   "name": "python3"
  },
  "language_info": {
   "codemirror_mode": {
    "name": "ipython",
    "version": 3
   },
   "file_extension": ".py",
   "mimetype": "text/x-python",
   "name": "python",
   "nbconvert_exporter": "python",
   "pygments_lexer": "ipython3",
   "version": "3.7.7"
  }
 },
 "nbformat": 4,
 "nbformat_minor": 2
}